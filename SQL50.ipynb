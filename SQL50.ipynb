{
  "nbformat": 4,
  "nbformat_minor": 0,
  "metadata": {
    "colab": {
      "provenance": [],
      "toc_visible": true,
      "authorship_tag": "ABX9TyN8YFQN5PapRMOrGNmyS5Ii",
      "include_colab_link": true
    },
    "kernelspec": {
      "name": "python3",
      "display_name": "Python 3"
    },
    "language_info": {
      "name": "python"
    }
  },
  "cells": [
    {
      "cell_type": "markdown",
      "metadata": {
        "id": "view-in-github",
        "colab_type": "text"
      },
      "source": [
        "<a href=\"https://colab.research.google.com/github/samp3209/leetcodeanswers/blob/main/SQL50.ipynb\" target=\"_parent\"><img src=\"https://colab.research.google.com/assets/colab-badge.svg\" alt=\"Open In Colab\"/></a>"
      ]
    },
    {
      "cell_type": "code",
      "execution_count": null,
      "metadata": {
        "id": "-EJ8WNI3ma6U"
      },
      "outputs": [],
      "source": []
    },
    {
      "cell_type": "markdown",
      "source": [
        "# Easy Problems\n"
      ],
      "metadata": {
        "id": "eOJiMkzImdsu"
      }
    },
    {
      "cell_type": "code",
      "source": [
        "# Write your MySQL query statement below\n",
        "select product_id from Products where low_fats = 'Y' and recyclable = 'Y'"
      ],
      "metadata": {
        "id": "CdeJxd0Omlzg"
      },
      "execution_count": null,
      "outputs": []
    },
    {
      "cell_type": "code",
      "source": [
        "# Write your MySQL query statement below\n",
        "SELECT name from Customer where referee_id !=2 or referee_id is null"
      ],
      "metadata": {
        "id": "PbG9S3V6mnva"
      },
      "execution_count": null,
      "outputs": []
    },
    {
      "cell_type": "code",
      "source": [
        "# Write your MySQL query statement below\n",
        "SELECT name, population, area from World where population >= 25000000 or area >= 3000000"
      ],
      "metadata": {
        "id": "Hrl7M2n7mp7l"
      },
      "execution_count": null,
      "outputs": []
    },
    {
      "cell_type": "code",
      "source": [
        "# Write your MySQL query statement below\n",
        "select distinct author_id as id from Views where author_id = viewer_id order by author_id"
      ],
      "metadata": {
        "id": "x7HJSVJ2mu41"
      },
      "execution_count": null,
      "outputs": []
    },
    {
      "cell_type": "code",
      "source": [
        "# Write your MySQL query statement below\n",
        "SELECT tweet_id from Tweets where length(content) > 15"
      ],
      "metadata": {
        "id": "WayT87uEmwRh"
      },
      "execution_count": null,
      "outputs": []
    },
    {
      "cell_type": "code",
      "source": [
        "# Write your MySQL query statement below\n",
        "Select Employees.name, EmployeeUNI.unique_id from Employees left join EmployeeUNI on Employees.id = EmployeeUNI.id"
      ],
      "metadata": {
        "id": "VlPimYmanip6"
      },
      "execution_count": null,
      "outputs": []
    },
    {
      "cell_type": "code",
      "source": [
        "# Write your MySQL query statement below\n",
        "SELECT Product.product_name, Sales.year, Sales.price FROM Sales left join Product on Sales.product_id = Product.product_id"
      ],
      "metadata": {
        "id": "u_R1gtzp4Phh"
      },
      "execution_count": null,
      "outputs": []
    },
    {
      "cell_type": "code",
      "source": [
        "SELECT w1.id\n",
        "FROM Weather w1, Weather w2\n",
        "WHERE DATEDIFF(w1.recordDate, w2.recordDate) = 1 AND w1.temperature > w2.temperature;"
      ],
      "metadata": {
        "id": "QY1jhoTB4TCI"
      },
      "execution_count": null,
      "outputs": []
    },
    {
      "cell_type": "code",
      "source": [
        "# Write your MySQL query statement below\n",
        "SELECT * from Cinema where mod(id, 2) != 0 and description != 'boring' order by rating desc"
      ],
      "metadata": {
        "id": "Yeb6RVlW5Qob"
      },
      "execution_count": null,
      "outputs": []
    },
    {
      "cell_type": "code",
      "source": [
        "# Write your MySQL query statement below\n",
        "select Prices.product_id, round(sum(units*price)/sum(units),2) as average_price from Prices inner join UnitsSold on Prices.product_id = UnitsSold.product_id and UnitsSold.purchase_date between start_date and end_date group by product_id"
      ],
      "metadata": {
        "id": "dw6teg9FpEBe"
      },
      "execution_count": null,
      "outputs": []
    },
    {
      "cell_type": "code",
      "source": [
        "# Write your MySQL query statement below\n",
        "select project_id, round(sum(experience_years) / count(experience_years), 2) as average_years from Project p inner join Employee e on p.employee_id = e.employee_id group by p.project_id"
      ],
      "metadata": {
        "id": "fwn87mlWqxld"
      },
      "execution_count": null,
      "outputs": []
    },
    {
      "cell_type": "code",
      "source": [
        "# Write your MySQL query statement below\n",
        "select contest_id, round((count(distinct(user_id)) / (select count(user_id) from Users))*100,2) as percentage from Register GROUP BY contest_id order by percentage desc, contest_id"
      ],
      "metadata": {
        "id": "g6L5rKGZdkKR"
      },
      "execution_count": null,
      "outputs": []
    },
    {
      "cell_type": "code",
      "source": [
        "# Write your MySQL query statement below\n",
        "SELECT query_name, round(avg((rating / position)),2) as quality, round(AVG(if(rating < 3,1,0))*100,2) as poor_query_percentage FROM Queries Group By query_name\n"
      ],
      "metadata": {
        "id": "ulgxRWkBh0Qx"
      },
      "execution_count": null,
      "outputs": []
    },
    {
      "cell_type": "code",
      "source": [
        "SELECT teacher_id, count(distinct(subject_id)) as cnt from Teacher group by teacher_id"
      ],
      "metadata": {
        "id": "RGCHaO_ni53l"
      },
      "execution_count": null,
      "outputs": []
    },
    {
      "cell_type": "code",
      "source": [
        "# Write your MySQL query statement below\n",
        "select activity_date as day, count(distinct(user_id))as active_users from Activity group by activity_date having count(distinct(activity_type)) > 2"
      ],
      "metadata": {
        "id": "k3Pqdx4usYqm"
      },
      "execution_count": null,
      "outputs": []
    },
    {
      "cell_type": "code",
      "source": [
        "# Write your MySQL query statement below\n",
        "SELECT class from Courses group by class having count(student) > 4"
      ],
      "metadata": {
        "id": "xZVYYq_3uJT3"
      },
      "execution_count": null,
      "outputs": []
    },
    {
      "cell_type": "code",
      "source": [
        "# Write your MySQL query statement below\n",
        "SELECT customer_id, count(customer_id) as count_no_trans FROM Visits left join Transactions on Visits.visit_id = Transactions.visit_id WHERE amount is null group by customer_id"
      ],
      "metadata": {
        "id": "xmBpxYYeK0Ua"
      },
      "execution_count": null,
      "outputs": []
    },
    {
      "cell_type": "code",
      "source": [
        "# Write your MySQL query statement below\n",
        "SELECT a1.machine_id, round(avg(a2.timestamp - a1.timestamp),3) as processing_time FROM Activity a1 join Activity a2 on a1.machine_id = a2.machine_id and a1.process_id = a2.process_id and a1.activity_type='Start' and a2.activity_type='end'\n",
        "group by a1.machine_id"
      ],
      "metadata": {
        "id": "LWh1ZtJSNn69"
      },
      "execution_count": null,
      "outputs": []
    },
    {
      "cell_type": "code",
      "source": [
        "# Write your MySQL query statement below\n",
        "SELECT name, bonus from Employee e left join Bonus b on e.empId = b.empId where bonus < 1000 or bonus is null"
      ],
      "metadata": {
        "id": "okkEBshSPyYL"
      },
      "execution_count": null,
      "outputs": []
    },
    {
      "cell_type": "code",
      "source": [
        "# Write your MySQL query statement below\n",
        "SELECT Students.student_id, Students.student_name, sub.subject_name, count(Examinations.student_id) as attended_exams  FROM Students cross join Subjects sub LEFT JOIN Examinations on Students.student_id = Examinations.student_id and sub.subject_name = Examinations.subject_name group by Students.student_id, Students.student_name, sub.subject_name order by Students.student_id, sub.subject_name"
      ],
      "metadata": {
        "id": "B2YjNwNsZwqv"
      },
      "execution_count": null,
      "outputs": []
    },
    {
      "cell_type": "markdown",
      "source": [
        "# Medium Problems\n"
      ],
      "metadata": {
        "id": "HSCILUF9mgvW"
      }
    },
    {
      "cell_type": "markdown",
      "source": [
        "# Hard Problems"
      ],
      "metadata": {
        "id": "Rbn0qwcrmjI-"
      }
    }
  ]
}