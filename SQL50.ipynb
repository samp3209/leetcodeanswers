{
  "nbformat": 4,
  "nbformat_minor": 0,
  "metadata": {
    "colab": {
      "provenance": [],
      "toc_visible": true,
      "authorship_tag": "ABX9TyN7Wcmkp8iGnZChQY9Pvora",
      "include_colab_link": true
    },
    "kernelspec": {
      "name": "python3",
      "display_name": "Python 3"
    },
    "language_info": {
      "name": "python"
    }
  },
  "cells": [
    {
      "cell_type": "markdown",
      "metadata": {
        "id": "view-in-github",
        "colab_type": "text"
      },
      "source": [
        "<a href=\"https://colab.research.google.com/github/samp3209/leetcodeanswers/blob/main/SQL50.ipynb\" target=\"_parent\"><img src=\"https://colab.research.google.com/assets/colab-badge.svg\" alt=\"Open In Colab\"/></a>"
      ]
    },
    {
      "cell_type": "code",
      "execution_count": null,
      "metadata": {
        "id": "-EJ8WNI3ma6U"
      },
      "outputs": [],
      "source": []
    },
    {
      "cell_type": "markdown",
      "source": [
        "# Easy Problems\n"
      ],
      "metadata": {
        "id": "eOJiMkzImdsu"
      }
    },
    {
      "cell_type": "code",
      "source": [
        "# Write your MySQL query statement below\n",
        "select product_id from Products where low_fats = 'Y' and recyclable = 'Y'"
      ],
      "metadata": {
        "id": "CdeJxd0Omlzg"
      },
      "execution_count": null,
      "outputs": []
    },
    {
      "cell_type": "code",
      "source": [
        "# Write your MySQL query statement below\n",
        "SELECT name from Customer where referee_id !=2 or referee_id is null"
      ],
      "metadata": {
        "id": "PbG9S3V6mnva"
      },
      "execution_count": null,
      "outputs": []
    },
    {
      "cell_type": "code",
      "source": [
        "# Write your MySQL query statement below\n",
        "SELECT name, population, area from World where population >= 25000000 or area >= 3000000"
      ],
      "metadata": {
        "id": "Hrl7M2n7mp7l"
      },
      "execution_count": null,
      "outputs": []
    },
    {
      "cell_type": "code",
      "source": [
        "# Write your MySQL query statement below\n",
        "select distinct author_id as id from Views where author_id = viewer_id order by author_id"
      ],
      "metadata": {
        "id": "x7HJSVJ2mu41"
      },
      "execution_count": null,
      "outputs": []
    },
    {
      "cell_type": "code",
      "source": [
        "# Write your MySQL query statement below\n",
        "SELECT tweet_id from Tweets where length(content) > 15"
      ],
      "metadata": {
        "id": "WayT87uEmwRh"
      },
      "execution_count": null,
      "outputs": []
    },
    {
      "cell_type": "code",
      "source": [
        "# Write your MySQL query statement below\n",
        "Select Employees.name, EmployeeUNI.unique_id from Employees left join EmployeeUNI on Employees.id = EmployeeUNI.id"
      ],
      "metadata": {
        "id": "VlPimYmanip6"
      },
      "execution_count": null,
      "outputs": []
    },
    {
      "cell_type": "markdown",
      "source": [
        "# Medium Problems\n"
      ],
      "metadata": {
        "id": "HSCILUF9mgvW"
      }
    },
    {
      "cell_type": "markdown",
      "source": [
        "# Hard Problems"
      ],
      "metadata": {
        "id": "Rbn0qwcrmjI-"
      }
    }
  ]
}