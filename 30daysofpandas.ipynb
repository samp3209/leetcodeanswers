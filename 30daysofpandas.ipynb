{
  "nbformat": 4,
  "nbformat_minor": 0,
  "metadata": {
    "colab": {
      "provenance": [],
      "authorship_tag": "ABX9TyNJAqHyrh8FAK8OgqAZWdYr",
      "include_colab_link": true
    },
    "kernelspec": {
      "name": "python3",
      "display_name": "Python 3"
    },
    "language_info": {
      "name": "python"
    }
  },
  "cells": [
    {
      "cell_type": "markdown",
      "metadata": {
        "id": "view-in-github",
        "colab_type": "text"
      },
      "source": [
        "<a href=\"https://colab.research.google.com/github/samp3209/leetcodeanswers/blob/main/30daysofpandas.ipynb\" target=\"_parent\"><img src=\"https://colab.research.google.com/assets/colab-badge.svg\" alt=\"Open In Colab\"/></a>"
      ]
    },
    {
      "cell_type": "markdown",
      "source": [
        "Problem 1: A country is big if:\n",
        "\n",
        "it has an area of at least three million (i.e., 3000000 km2), or\n",
        "it has a population of at least twenty-five million (i.e., 25000000).\n",
        "Write a solution to find the name, population, and area of the big countries.\n",
        "\n",
        "Return the result table in any order\n",
        "\n",
        "Results:\n",
        "Time bottom 5% Memory top 9%"
      ],
      "metadata": {
        "id": "lkLkPZglcvKI"
      }
    },
    {
      "cell_type": "code",
      "execution_count": null,
      "metadata": {
        "id": "azEAISbIcqt_"
      },
      "outputs": [],
      "source": [
        "import pandas as pd\n",
        "\n",
        "def big_countries(world: pd.DataFrame) -> pd.DataFrame:\n",
        "    names = []\n",
        "    pop = []\n",
        "    area = []\n",
        "    for index, row in world.iterrows():\n",
        "        print(row)\n",
        "        if row[2] >= 3000000 or row[3] >= 25000000:\n",
        "            names.append(row['name'])\n",
        "            pop.append(row['population'])\n",
        "            area.append(row['area'])\n",
        "        else:\n",
        "            pass\n",
        "    dict = {'name': names, 'population': pop, 'area': area }\n",
        "    out = pd.DataFrame(dict)\n",
        "    return out\n"
      ]
    }
  ]
}