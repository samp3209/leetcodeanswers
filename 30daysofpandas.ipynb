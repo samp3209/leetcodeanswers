{
  "nbformat": 4,
  "nbformat_minor": 0,
  "metadata": {
    "colab": {
      "provenance": [],
      "authorship_tag": "ABX9TyN8EoqVhGeZYppwVibtNDlf",
      "include_colab_link": true
    },
    "kernelspec": {
      "name": "python3",
      "display_name": "Python 3"
    },
    "language_info": {
      "name": "python"
    }
  },
  "cells": [
    {
      "cell_type": "markdown",
      "metadata": {
        "id": "view-in-github",
        "colab_type": "text"
      },
      "source": [
        "<a href=\"https://colab.research.google.com/github/samp3209/leetcodeanswers/blob/main/30daysofpandas.ipynb\" target=\"_parent\"><img src=\"https://colab.research.google.com/assets/colab-badge.svg\" alt=\"Open In Colab\"/></a>"
      ]
    },
    {
      "cell_type": "markdown",
      "source": [
        "Problem 1: A country is big if:\n",
        "\n",
        "it has an area of at least three million (i.e., 3000000 km2), or\n",
        "it has a population of at least twenty-five million (i.e., 25000000).\n",
        "Write a solution to find the name, population, and area of the big countries.\n",
        "\n",
        "Return the result table in any order\n",
        "\n",
        "Results:\n",
        "Time bottom 5% Memory top 9%"
      ],
      "metadata": {
        "id": "lkLkPZglcvKI"
      }
    },
    {
      "cell_type": "code",
      "execution_count": null,
      "metadata": {
        "id": "azEAISbIcqt_"
      },
      "outputs": [],
      "source": [
        "import pandas as pd\n",
        "\n",
        "def big_countries(world: pd.DataFrame) -> pd.DataFrame:\n",
        "    names = []\n",
        "    pop = []\n",
        "    area = []\n",
        "    for index, row in world.iterrows():\n",
        "        print(row)\n",
        "        if row[2] >= 3000000 or row[3] >= 25000000:\n",
        "            names.append(row['name'])\n",
        "            pop.append(row['population'])\n",
        "            area.append(row['area'])\n",
        "        else:\n",
        "            pass\n",
        "    dict = {'name': names, 'population': pop, 'area': area }\n",
        "    out = pd.DataFrame(dict)\n",
        "    return out\n"
      ]
    },
    {
      "cell_type": "markdown",
      "source": [
        "Problem 2 Write a solution to find the ids of products that are both low fat and recyclable.\n",
        "\n",
        "Return the result table in any order.\n",
        "\n",
        "Results\n",
        "Time 22% Mem 62%"
      ],
      "metadata": {
        "id": "oBbDATXHfR3k"
      }
    },
    {
      "cell_type": "code",
      "source": [
        "import pandas as pd\n",
        "\n",
        "def find_products(products: pd.DataFrame) -> pd.DataFrame:\n",
        "    out = products[(products['low_fats'] == 'Y') & (products['recyclable'] == 'Y')]\n",
        "    return out[['product_id']]"
      ],
      "metadata": {
        "id": "3_0cb327fRlk"
      },
      "execution_count": null,
      "outputs": []
    },
    {
      "cell_type": "markdown",
      "source": [
        "Problem 3 Write a solution to find all customers who never order anything.\n",
        "\n",
        "Return the result table in any order.\n",
        "Results Time 28% MEM 73%"
      ],
      "metadata": {
        "id": "i2OoQXo1fjhB"
      }
    },
    {
      "cell_type": "code",
      "source": [
        "import pandas as pd\n",
        "\n",
        "def find_customers(customers: pd.DataFrame, orders: pd.DataFrame) -> pd.DataFrame:\n",
        "    out = customers[~customers['id'].isin(orders['customerId'])]\n",
        "    out  = out[['name']].rename(columns={'name': 'Customers'})\n",
        "    return out"
      ],
      "metadata": {
        "id": "PvgHuK1BjHXy"
      },
      "execution_count": null,
      "outputs": []
    },
    {
      "cell_type": "markdown",
      "source": [
        "Problem *4* Write a solution to find all the authors that viewed at least one of their own articles.\n",
        "\n",
        "Return the result table sorted by id in ascending order.v"
      ],
      "metadata": {
        "id": "HF8qE7W5fkir"
      }
    },
    {
      "cell_type": "code",
      "source": [
        "import pandas as pd\n",
        "\n",
        "def article_views(views: pd.DataFrame) -> pd.DataFrame:\n",
        "    out = views[(views['author_id'] == views['viewer_id'])]\n",
        "    out['id'] = out['author_id'].drop_duplicates()\n",
        "    return out[['id']].sort_values(by='id').dropna()"
      ],
      "metadata": {
        "id": "iUD5P4PskKtO"
      },
      "execution_count": null,
      "outputs": []
    },
    {
      "cell_type": "markdown",
      "source": [
        "Problem 5 Write a solution to find the IDs of the invalid tweets. The tweet is invalid if the number of characters used in the content of the tweet is strictly greater than 15.\n",
        "\n",
        "Return the result table in any order."
      ],
      "metadata": {
        "id": "bybqhfEqflVk"
      }
    },
    {
      "cell_type": "code",
      "source": [
        "import pandas as pd\n",
        "\n",
        "def invalid_tweets(tweets: pd.DataFrame) -> pd.DataFrame:\n",
        "    out = tweets[(tweets['content'].str.len() > 15)]\n",
        "    return out[['tweet_id']]"
      ],
      "metadata": {
        "id": "z1TpY9xkpEQg"
      },
      "execution_count": null,
      "outputs": []
    },
    {
      "cell_type": "markdown",
      "source": [
        "Problem 6 Write a solution to calculate the bonus of each employee. The bonus of an employee is 100% of their salary if the ID of the employee is an odd number and the employee's name does not start with the character 'M'. The bonus of an employee is 0 otherwise.\n",
        "\n",
        "Return the result table ordered by employee_id."
      ],
      "metadata": {
        "id": "je3C3iCUfmML"
      }
    },
    {
      "cell_type": "code",
      "source": [
        "import pandas as pd\n",
        "\n",
        "def calculate_special_bonus(employees: pd.DataFrame) -> pd.DataFrame:\n",
        "    ids = []\n",
        "    bonus = []\n",
        "    for index, row in employees.iterrows():\n",
        "        if row['employee_id'] % 2 != 0 and row['name'][0] != 'M':\n",
        "            bonus.append(row['salary'])\n",
        "            ids.append(row['employee_id'])\n",
        "        else:\n",
        "            bonus.append(0)\n",
        "            ids.append(row['employee_id'])\n",
        "    out = pd.DataFrame({'employee_id': ids, 'bonus': bonus})\n",
        "    return out.sort_values(by='employee_id')"
      ],
      "metadata": {
        "id": "YCliL029xH5f"
      },
      "execution_count": null,
      "outputs": []
    },
    {
      "cell_type": "markdown",
      "source": [
        "Problem 7 Write a solution to fix the names so that only the first character is uppercase and the rest are lowercase.\n",
        "\n",
        "Return the result table ordered by user_id."
      ],
      "metadata": {
        "id": "QvnvfajgfnB5"
      }
    },
    {
      "cell_type": "code",
      "source": [
        "import pandas as pd\n",
        "\n",
        "def fix_names(users: pd.DataFrame) -> pd.DataFrame:\n",
        "    names = []\n",
        "    for name in users['name']:\n",
        "        names.append(name[0].upper() + name[1:].lower())\n",
        "    users['name'] = names\n",
        "    return users.sort_values(by='user_id')"
      ],
      "metadata": {
        "id": "v0AaSJQ10U99"
      },
      "execution_count": null,
      "outputs": []
    },
    {
      "cell_type": "markdown",
      "source": [
        "Problem 8"
      ],
      "metadata": {
        "id": "Bt_I3XX1foKV"
      }
    },
    {
      "cell_type": "code",
      "source": [
        "import pandas as pd\n",
        "\n",
        "# Modify Person in place\n",
        "def delete_duplicate_emails(person: pd.DataFrame) -> None:\n",
        "    person.sort_values(by='id', inplace=True)\n",
        "    person.drop_duplicates(subset='email', keep='first', inplace=True)"
      ],
      "metadata": {
        "id": "Lj6CnA1SJyeK"
      },
      "execution_count": null,
      "outputs": []
    },
    {
      "cell_type": "markdown",
      "source": [
        "Problem 9\n"
      ],
      "metadata": {
        "id": "PQjN7v5LfpQ5"
      }
    },
    {
      "cell_type": "code",
      "source": [
        "import pandas as pd\n",
        "\n",
        "def count_rich_customers(store: pd.DataFrame) -> pd.DataFrame:\n",
        "    out = store[(store['amount'] > 500)]['customer_id']\n",
        "    rich_count = []\n",
        "    rich_count.append(out.nunique())\n",
        "    out = pd.DataFrame({'rich_count': rich_count})\n",
        "    return out"
      ],
      "metadata": {
        "id": "8KwMibxMieLD"
      },
      "execution_count": null,
      "outputs": []
    },
    {
      "cell_type": "markdown",
      "source": [
        "Problem 10"
      ],
      "metadata": {
        "id": "L_4zJEzOfqZL"
      }
    },
    {
      "cell_type": "code",
      "source": [
        "import pandas as pd\n",
        "\n",
        "def replace_employee_id(employees: pd.DataFrame, employee_uni: pd.DataFrame) -> pd.DataFrame:\n",
        "    out = pd.merge(employees, employee_uni, how='left', on='id')\n",
        "    return out[['unique_id', 'name']]"
      ],
      "metadata": {
        "id": "UCai7PLPigrB"
      },
      "execution_count": null,
      "outputs": []
    },
    {
      "cell_type": "markdown",
      "source": [
        "Problem 11"
      ],
      "metadata": {
        "id": "dK-jRaecfrYp"
      }
    },
    {
      "cell_type": "code",
      "source": [
        "import pandas as pd\n",
        "\n",
        "def food_delivery(delivery: pd.DataFrame) -> pd.DataFrame:\n",
        "    out = len(delivery[(delivery['order_date'] == delivery['customer_pref_delivery_date'])])\n",
        "    delivery['immediate_percentage'] = float(round(out / len(delivery) * 100,2))\n",
        "    out = delivery['immediate_percentage'].drop_duplicates()\n",
        "    out = pd.DataFrame({'immediate_percentage': out})\n",
        "    return out"
      ],
      "metadata": {
        "id": "EMpxL3MlbVP1"
      },
      "execution_count": null,
      "outputs": []
    },
    {
      "cell_type": "markdown",
      "source": [
        "Problem 12"
      ],
      "metadata": {
        "id": "3m7bHlq_fsQc"
      }
    },
    {
      "cell_type": "code",
      "source": [
        "import pandas as pd\n",
        "\n",
        "def nth_highest_salary(employee: pd.DataFrame, N: int) -> pd.DataFrame:\n",
        "    employee = employee.sort_values(ascending=True, by='salary')\n",
        "    ids = employee['id'].unique()\n",
        "    if N in ids:\n",
        "        out = employee.loc[employee['id'] == N]\n",
        "        out = out['salary']\n",
        "    else:\n",
        "        employee['salary'] = 'null'\n",
        "        out = employee['salary']\n",
        "    return pd.DataFrame({'getNthHighestSalary:': [out]})"
      ],
      "metadata": {
        "id": "_uWWn_Vc3V4-"
      },
      "execution_count": null,
      "outputs": []
    },
    {
      "cell_type": "markdown",
      "source": [
        "Problem 13"
      ],
      "metadata": {
        "id": "IIi3TJoyftKN"
      }
    },
    {
      "cell_type": "code",
      "source": [
        "import pandas as pd\n",
        "\n",
        "def students_and_examinations(students: pd.DataFrame, subjects: pd.DataFrame, examinations: pd.DataFrame) -> pd.DataFrame:\n",
        "    # group by student_id', 'subject_name'; getting count for each subject\n",
        "    examinations = examinations.groupby(['student_id', 'subject_name']).agg(attended_exams=('subject_name', 'count')).reset_index()\n",
        "    # cross join\n",
        "    students = students.merge(subjects, how='cross')\n",
        "    # right join\n",
        "    examinations = examinations.merge(students, on=['student_id', 'subject_name'],how='right')\n",
        "    # filling null values with 0\n",
        "    examinations = examinations.fillna(0)\n",
        "    # sorting by 'student_id', 'subject_name'\n",
        "    examinations = examinations.sort_values(['student_id', 'subject_name'])\n",
        "    return examinations[['student_id', 'student_name', 'subject_name', 'attended_exams']]"
      ],
      "metadata": {
        "id": "MzrMPeNPv7tu"
      },
      "execution_count": null,
      "outputs": []
    },
    {
      "cell_type": "markdown",
      "source": [
        "Problem 14"
      ],
      "metadata": {
        "id": "U8IHNiCxfuQs"
      }
    },
    {
      "cell_type": "code",
      "source": [
        "import pandas as pd\n",
        "\n",
        "def find_patients(patients: pd.DataFrame) -> pd.DataFrame:\n",
        "    names = []\n",
        "    pop = []\n",
        "    area = []\n",
        "    for index, row in patients.iterrows():\n",
        "        print(row)\n",
        "        if row['conditions'].startswith('DIAB1') or ' DIAB1' in row['conditions']:\n",
        "            names.append(row['patient_id'])\n",
        "            pop.append(row['patient_name'])\n",
        "            area.append(row['conditions'])\n",
        "        else:\n",
        "            pass\n",
        "    dict = {'patient_id': names, 'patient_name': pop, 'conditions': area }\n",
        "    out = pd.DataFrame(dict)\n",
        "    return out\n"
      ],
      "metadata": {
        "id": "zm_yfDO79aDI"
      },
      "execution_count": null,
      "outputs": []
    },
    {
      "cell_type": "markdown",
      "source": [
        "Problem 15"
      ],
      "metadata": {
        "id": "N1bbE3IefvPz"
      }
    },
    {
      "cell_type": "code",
      "source": [
        "import pandas as pd\n",
        "\n",
        "def rearrange_products_table(products: pd.DataFrame) -> pd.DataFrame:\n",
        "    out = products.melt(id_vars='product_id', var_name='store', value_name='price').dropna()\n",
        "    return out"
      ],
      "metadata": {
        "id": "897smy0ZEGBl"
      },
      "execution_count": null,
      "outputs": []
    },
    {
      "cell_type": "markdown",
      "source": [
        "Problem 16\n"
      ],
      "metadata": {
        "id": "PdN7BA4YfwCX"
      }
    },
    {
      "cell_type": "code",
      "source": [
        "import pandas as pd\n",
        "\n",
        "def second_highest_salary(employee: pd.DataFrame) -> pd.DataFrame:\n",
        "    unique_salaries = employee['salary'].drop_duplicates()\n",
        "    out = unique_salaries.nlargest(2).iloc[-1] if len(unique_salaries) >1 else None\n",
        "    res = pd.DataFrame({'SecondHighestSalary': [out]})\n",
        "    return res"
      ],
      "metadata": {
        "id": "mKqNFfeVTCDV"
      },
      "execution_count": null,
      "outputs": []
    },
    {
      "cell_type": "markdown",
      "source": [
        "Problem 17"
      ],
      "metadata": {
        "id": "kCbguH9Ofw9u"
      }
    },
    {
      "cell_type": "code",
      "source": [
        "import pandas as pd\n",
        "\n",
        "def total_time(employees: pd.DataFrame) -> pd.DataFrame:\n",
        "    employees['total_time'] = employees['out_time'] - employees['in_time']\n",
        "    employees = employees.drop(columns=['in_time', 'out_time'])\n",
        "    employees = employees.groupby(['emp_id','event_day'])['total_time'].sum().reset_index()\n",
        "    employees = employees.rename(columns={'event_day': 'day'})\n",
        "    return employees"
      ],
      "metadata": {
        "id": "DphLqmvMRRLB"
      },
      "execution_count": null,
      "outputs": []
    },
    {
      "cell_type": "markdown",
      "source": [
        "Problem 18"
      ],
      "metadata": {
        "id": "CDm-SD5efyNg"
      }
    },
    {
      "cell_type": "code",
      "source": [
        "import pandas as pd\n",
        "\n",
        "def valid_emails(users: pd.DataFrame) -> pd.DataFrame:\n",
        "    return users[\n",
        "        users['mail'].str.match(r'^[a-zA-Z][a-zA-Z\\d_.-]*@leetcode\\.com')\n",
        "    ]"
      ],
      "metadata": {
        "id": "v1UCQxf9MQrp"
      },
      "execution_count": null,
      "outputs": []
    },
    {
      "cell_type": "markdown",
      "source": [
        "Problem 19"
      ],
      "metadata": {
        "id": "tnryeZHAfzRB"
      }
    },
    {
      "cell_type": "code",
      "source": [
        "import pandas as pd\n",
        "\n",
        "def department_highest_salary(employee: pd.DataFrame, department: pd.DataFrame) -> pd.DataFrame:\n",
        "    out = employee.merge(department, left_on='departmentId', right_on='id', suffixes=('_employee', '_department'))\n",
        "    out = out.groupby(['departmentId']).apply(lambda x: x[x['salary'] == x['salary'].max()])\n",
        "    #x = employee[].isin(out)\n",
        "    out = out.reset_index(drop=True)\n",
        "    print(out)\n",
        "    out1 = out[['name_department', 'name_employee', 'salary']]\n",
        "    out1.columns = ['Department', 'Employee', 'Salary']\n",
        "    return out1"
      ],
      "metadata": {
        "id": "NKam5HAqMRWt"
      },
      "execution_count": null,
      "outputs": []
    },
    {
      "cell_type": "markdown",
      "source": [
        "Problem 20[link text](https://)"
      ],
      "metadata": {
        "id": "rGm1LdwVf0Lw"
      }
    },
    {
      "cell_type": "code",
      "source": [
        "import pandas as pd\n",
        "\n",
        "def game_analysis(activity: pd.DataFrame) -> pd.DataFrame:\n",
        "    out = activity.groupby(['player_id'], as_index=False)['event_date'].min()\n",
        "    out = out.reset_index(drop=True)\n",
        "    out.columns = ['player_id', 'first_login']\n",
        "    return out"
      ],
      "metadata": {
        "id": "bh0aIaXgxp6t"
      },
      "execution_count": null,
      "outputs": []
    },
    {
      "cell_type": "markdown",
      "source": [
        "Problem 21\n"
      ],
      "metadata": {
        "id": "4Wt_s_w6gO_L"
      }
    },
    {
      "cell_type": "code",
      "source": [
        "import pandas as pd\n",
        "\n",
        "def actors_and_directors(actor_director: pd.DataFrame) -> pd.DataFrame:\n",
        "    out = actor_director.groupby(['actor_id', 'director_id'], as_index=False).count()\n",
        "    out = out.reset_index(drop=True)\n",
        "    return out[out['timestamp'] >= 3][['actor_id', 'director_id']]"
      ],
      "metadata": {
        "id": "e0dGVukbI7EY"
      },
      "execution_count": null,
      "outputs": []
    },
    {
      "cell_type": "markdown",
      "source": [
        "Problem 22"
      ],
      "metadata": {
        "id": "LCH7QkBIgQ0q"
      }
    },
    {
      "cell_type": "code",
      "source": [
        "import pandas as pd\n",
        "\n",
        "def sales_person(sales_person: pd.DataFrame, company: pd.DataFrame, orders: pd.DataFrame) -> pd.DataFrame:\n",
        "    join = sales_person.merge(orders, on='sales_id', how='left').merge(company, on='com_id', how='left')\n",
        "    out = join.groupby(['name_x','name_y'], as_index=False).count()\n",
        "    out = out['name_x'][out['name_y'] == 'RED']\n",
        "    out = sales_person['name'][~sales_person['name'].isin(out.values)]\n",
        "    out = out.to_frame()\n",
        "    return out"
      ],
      "metadata": {
        "id": "mCa-TXrAQCOJ"
      },
      "execution_count": null,
      "outputs": []
    },
    {
      "cell_type": "markdown",
      "source": [
        "Problem 23"
      ],
      "metadata": {
        "id": "Is4232uegSHZ"
      }
    },
    {
      "cell_type": "markdown",
      "source": [
        "Problem 24"
      ],
      "metadata": {
        "id": "S91qElA7gSzQ"
      }
    },
    {
      "cell_type": "markdown",
      "source": [
        "Problem 25"
      ],
      "metadata": {
        "id": "0ULqbAljgTos"
      }
    },
    {
      "cell_type": "markdown",
      "source": [
        "Problem 26\n"
      ],
      "metadata": {
        "id": "rd-elU8GgUm2"
      }
    },
    {
      "cell_type": "markdown",
      "source": [
        "Problem 27\n"
      ],
      "metadata": {
        "id": "Afdu4QNpgV49"
      }
    },
    {
      "cell_type": "markdown",
      "source": [
        "Problem 28"
      ],
      "metadata": {
        "id": "q8quV3BwgW8S"
      }
    },
    {
      "cell_type": "markdown",
      "source": [
        "Problem 29"
      ],
      "metadata": {
        "id": "HITaBmo_gXwf"
      }
    },
    {
      "cell_type": "markdown",
      "source": [
        "Problem 30\n"
      ],
      "metadata": {
        "id": "gtgz7NmGgYcH"
      }
    }
  ]
}