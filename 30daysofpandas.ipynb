{
  "nbformat": 4,
  "nbformat_minor": 0,
  "metadata": {
    "colab": {
      "provenance": [],
      "authorship_tag": "ABX9TyMMolZrZ+if/a0VhMUq1HK0",
      "include_colab_link": true
    },
    "kernelspec": {
      "name": "python3",
      "display_name": "Python 3"
    },
    "language_info": {
      "name": "python"
    }
  },
  "cells": [
    {
      "cell_type": "markdown",
      "metadata": {
        "id": "view-in-github",
        "colab_type": "text"
      },
      "source": [
        "<a href=\"https://colab.research.google.com/github/samp3209/leetcodeanswers/blob/main/30daysofpandas.ipynb\" target=\"_parent\"><img src=\"https://colab.research.google.com/assets/colab-badge.svg\" alt=\"Open In Colab\"/></a>"
      ]
    },
    {
      "cell_type": "markdown",
      "source": [
        "Problem 1: A country is big if:\n",
        "\n",
        "it has an area of at least three million (i.e., 3000000 km2), or\n",
        "it has a population of at least twenty-five million (i.e., 25000000).\n",
        "Write a solution to find the name, population, and area of the big countries.\n",
        "\n",
        "Return the result table in any order\n",
        "\n",
        "Results:\n",
        "Time bottom 5% Memory top 9%"
      ],
      "metadata": {
        "id": "lkLkPZglcvKI"
      }
    },
    {
      "cell_type": "code",
      "execution_count": null,
      "metadata": {
        "id": "azEAISbIcqt_"
      },
      "outputs": [],
      "source": [
        "import pandas as pd\n",
        "\n",
        "def big_countries(world: pd.DataFrame) -> pd.DataFrame:\n",
        "    names = []\n",
        "    pop = []\n",
        "    area = []\n",
        "    for index, row in world.iterrows():\n",
        "        print(row)\n",
        "        if row[2] >= 3000000 or row[3] >= 25000000:\n",
        "            names.append(row['name'])\n",
        "            pop.append(row['population'])\n",
        "            area.append(row['area'])\n",
        "        else:\n",
        "            pass\n",
        "    dict = {'name': names, 'population': pop, 'area': area }\n",
        "    out = pd.DataFrame(dict)\n",
        "    return out\n"
      ]
    },
    {
      "cell_type": "markdown",
      "source": [
        "Problem 2 Write a solution to find the ids of products that are both low fat and recyclable.\n",
        "\n",
        "Return the result table in any order.\n",
        "\n",
        "Results\n",
        "Time 22% Mem 62%"
      ],
      "metadata": {
        "id": "oBbDATXHfR3k"
      }
    },
    {
      "cell_type": "code",
      "source": [
        "import pandas as pd\n",
        "\n",
        "def find_products(products: pd.DataFrame) -> pd.DataFrame:\n",
        "    out = products[(products['low_fats'] == 'Y') & (products['recyclable'] == 'Y')]\n",
        "    return out[['product_id']]"
      ],
      "metadata": {
        "id": "3_0cb327fRlk"
      },
      "execution_count": null,
      "outputs": []
    },
    {
      "cell_type": "markdown",
      "source": [
        "Problem 3 Write a solution to find all customers who never order anything.\n",
        "\n",
        "Return the result table in any order.\n",
        "Results Time 28% MEM 73%"
      ],
      "metadata": {
        "id": "i2OoQXo1fjhB"
      }
    },
    {
      "cell_type": "code",
      "source": [
        "import pandas as pd\n",
        "\n",
        "def find_customers(customers: pd.DataFrame, orders: pd.DataFrame) -> pd.DataFrame:\n",
        "    out = customers[~customers['id'].isin(orders['customerId'])]\n",
        "    out  = out[['name']].rename(columns={'name': 'Customers'})\n",
        "    return out"
      ],
      "metadata": {
        "id": "PvgHuK1BjHXy"
      },
      "execution_count": null,
      "outputs": []
    },
    {
      "cell_type": "markdown",
      "source": [
        "Problem *4* Write a solution to find all the authors that viewed at least one of their own articles.\n",
        "\n",
        "Return the result table sorted by id in ascending order.v"
      ],
      "metadata": {
        "id": "HF8qE7W5fkir"
      }
    },
    {
      "cell_type": "code",
      "source": [
        "import pandas as pd\n",
        "\n",
        "def article_views(views: pd.DataFrame) -> pd.DataFrame:\n",
        "    out = views[(views['author_id'] == views['viewer_id'])]\n",
        "    out['id'] = out['author_id'].drop_duplicates()\n",
        "    return out[['id']].sort_values(by='id').dropna()"
      ],
      "metadata": {
        "id": "iUD5P4PskKtO"
      },
      "execution_count": null,
      "outputs": []
    },
    {
      "cell_type": "markdown",
      "source": [
        "Problem 5 Write a solution to find the IDs of the invalid tweets. The tweet is invalid if the number of characters used in the content of the tweet is strictly greater than 15.\n",
        "\n",
        "Return the result table in any order."
      ],
      "metadata": {
        "id": "bybqhfEqflVk"
      }
    },
    {
      "cell_type": "code",
      "source": [
        "import pandas as pd\n",
        "\n",
        "def invalid_tweets(tweets: pd.DataFrame) -> pd.DataFrame:\n",
        "    out = tweets[(tweets['content'].str.len() > 15)]\n",
        "    return out[['tweet_id']]"
      ],
      "metadata": {
        "id": "z1TpY9xkpEQg"
      },
      "execution_count": null,
      "outputs": []
    },
    {
      "cell_type": "markdown",
      "source": [
        "Problem 6"
      ],
      "metadata": {
        "id": "je3C3iCUfmML"
      }
    },
    {
      "cell_type": "markdown",
      "source": [
        "Problem 7"
      ],
      "metadata": {
        "id": "QvnvfajgfnB5"
      }
    },
    {
      "cell_type": "markdown",
      "source": [
        "Problem 8"
      ],
      "metadata": {
        "id": "Bt_I3XX1foKV"
      }
    },
    {
      "cell_type": "markdown",
      "source": [
        "Problem 9\n"
      ],
      "metadata": {
        "id": "PQjN7v5LfpQ5"
      }
    },
    {
      "cell_type": "markdown",
      "source": [
        "Problem 10"
      ],
      "metadata": {
        "id": "L_4zJEzOfqZL"
      }
    },
    {
      "cell_type": "markdown",
      "source": [
        "Problem 11"
      ],
      "metadata": {
        "id": "dK-jRaecfrYp"
      }
    },
    {
      "cell_type": "markdown",
      "source": [
        "Problem 12"
      ],
      "metadata": {
        "id": "3m7bHlq_fsQc"
      }
    },
    {
      "cell_type": "markdown",
      "source": [
        "Problem 13"
      ],
      "metadata": {
        "id": "IIi3TJoyftKN"
      }
    },
    {
      "cell_type": "markdown",
      "source": [
        "Problem 14"
      ],
      "metadata": {
        "id": "U8IHNiCxfuQs"
      }
    },
    {
      "cell_type": "markdown",
      "source": [
        "Problem 15"
      ],
      "metadata": {
        "id": "N1bbE3IefvPz"
      }
    },
    {
      "cell_type": "markdown",
      "source": [
        "Problem 16\n"
      ],
      "metadata": {
        "id": "PdN7BA4YfwCX"
      }
    },
    {
      "cell_type": "markdown",
      "source": [
        "Problem 17"
      ],
      "metadata": {
        "id": "kCbguH9Ofw9u"
      }
    },
    {
      "cell_type": "markdown",
      "source": [
        "Problem 18"
      ],
      "metadata": {
        "id": "CDm-SD5efyNg"
      }
    },
    {
      "cell_type": "markdown",
      "source": [
        "Problem 19"
      ],
      "metadata": {
        "id": "tnryeZHAfzRB"
      }
    },
    {
      "cell_type": "markdown",
      "source": [
        "Problem 20[link text](https://)"
      ],
      "metadata": {
        "id": "rGm1LdwVf0Lw"
      }
    },
    {
      "cell_type": "markdown",
      "source": [
        "Problem 21\n"
      ],
      "metadata": {
        "id": "4Wt_s_w6gO_L"
      }
    },
    {
      "cell_type": "markdown",
      "source": [
        "Problem 22"
      ],
      "metadata": {
        "id": "LCH7QkBIgQ0q"
      }
    },
    {
      "cell_type": "markdown",
      "source": [
        "Problem 23"
      ],
      "metadata": {
        "id": "Is4232uegSHZ"
      }
    },
    {
      "cell_type": "markdown",
      "source": [
        "Problem 24"
      ],
      "metadata": {
        "id": "S91qElA7gSzQ"
      }
    },
    {
      "cell_type": "markdown",
      "source": [
        "Problem 25"
      ],
      "metadata": {
        "id": "0ULqbAljgTos"
      }
    },
    {
      "cell_type": "markdown",
      "source": [
        "Problem 26\n"
      ],
      "metadata": {
        "id": "rd-elU8GgUm2"
      }
    },
    {
      "cell_type": "markdown",
      "source": [
        "Problem 27\n"
      ],
      "metadata": {
        "id": "Afdu4QNpgV49"
      }
    },
    {
      "cell_type": "markdown",
      "source": [
        "Problem 28"
      ],
      "metadata": {
        "id": "q8quV3BwgW8S"
      }
    },
    {
      "cell_type": "markdown",
      "source": [
        "Problem 29"
      ],
      "metadata": {
        "id": "HITaBmo_gXwf"
      }
    },
    {
      "cell_type": "markdown",
      "source": [
        "Problem 30\n"
      ],
      "metadata": {
        "id": "gtgz7NmGgYcH"
      }
    }
  ]
}