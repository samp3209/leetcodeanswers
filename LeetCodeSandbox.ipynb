{
  "nbformat": 4,
  "nbformat_minor": 0,
  "metadata": {
    "colab": {
      "provenance": [],
      "toc_visible": true,
      "authorship_tag": "ABX9TyOdslIXMpeCw72R/Zd1fAix",
      "include_colab_link": true
    },
    "kernelspec": {
      "name": "python3",
      "display_name": "Python 3"
    },
    "language_info": {
      "name": "python"
    }
  },
  "cells": [
    {
      "cell_type": "markdown",
      "metadata": {
        "id": "view-in-github",
        "colab_type": "text"
      },
      "source": [
        "<a href=\"https://colab.research.google.com/github/samp3209/leetcodeanswers/blob/main/LeetCodeSandbox.ipynb\" target=\"_parent\"><img src=\"https://colab.research.google.com/assets/colab-badge.svg\" alt=\"Open In Colab\"/></a>"
      ]
    },
    {
      "cell_type": "markdown",
      "source": [
        "For annoying stuff in python that I have to constantly look up"
      ],
      "metadata": {
        "id": "Xv9Q1NfJh7mt"
      }
    },
    {
      "cell_type": "markdown",
      "source": [
        "#**Math**"
      ],
      "metadata": {
        "id": "oggxpLMXiipe"
      }
    },
    {
      "cell_type": "code",
      "execution_count": null,
      "metadata": {
        "colab": {
          "base_uri": "https://localhost:8080/"
        },
        "id": "SjbDR2Rvh4Vx",
        "outputId": "550cbaf9-ac6a-4725-d420-e8266a3a5153"
      },
      "outputs": [
        {
          "output_type": "execute_result",
          "data": {
            "text/plain": [
              "1.5"
            ]
          },
          "metadata": {},
          "execution_count": 1
        }
      ],
      "source": [
        "#Division by default is division\n",
        "3/2"
      ]
    },
    {
      "cell_type": "code",
      "source": [
        "# Double slash rounds DOWN\n",
        "3//2"
      ],
      "metadata": {
        "colab": {
          "base_uri": "https://localhost:8080/"
        },
        "id": "SS6sIT53iGqF",
        "outputId": "7977dfa2-2163-48a0-ea10-7b7d4f064ab6"
      },
      "execution_count": null,
      "outputs": [
        {
          "output_type": "execute_result",
          "data": {
            "text/plain": [
              "1"
            ]
          },
          "metadata": {},
          "execution_count": 2
        }
      ]
    },
    {
      "cell_type": "code",
      "source": [
        "#Negatives will round down\n",
        "-3//2"
      ],
      "metadata": {
        "colab": {
          "base_uri": "https://localhost:8080/"
        },
        "id": "VJT6n2GHiMBz",
        "outputId": "dc083f31-6166-4cf7-cf01-ff52953dc5d8"
      },
      "execution_count": null,
      "outputs": [
        {
          "output_type": "execute_result",
          "data": {
            "text/plain": [
              "-2"
            ]
          },
          "metadata": {},
          "execution_count": 3
        }
      ]
    },
    {
      "cell_type": "code",
      "source": [
        "#Workaround to round up\n",
        "int(-3/2)"
      ],
      "metadata": {
        "colab": {
          "base_uri": "https://localhost:8080/"
        },
        "id": "nwFV5-GEiSgi",
        "outputId": "365599c0-1bde-475e-b10a-d57dda710f5f"
      },
      "execution_count": null,
      "outputs": [
        {
          "output_type": "execute_result",
          "data": {
            "text/plain": [
              "-1"
            ]
          },
          "metadata": {},
          "execution_count": 4
        }
      ]
    },
    {
      "cell_type": "code",
      "source": [
        "#Modding is normal for positive\n",
        "10%3"
      ],
      "metadata": {
        "colab": {
          "base_uri": "https://localhost:8080/"
        },
        "id": "bYnd2S2PiWPJ",
        "outputId": "b05d7444-6284-40fc-8086-f0ff925fe129"
      },
      "execution_count": null,
      "outputs": [
        {
          "output_type": "execute_result",
          "data": {
            "text/plain": [
              "1"
            ]
          },
          "metadata": {},
          "execution_count": 5
        }
      ]
    },
    {
      "cell_type": "code",
      "source": [
        "#Negatives are a bit tricky\n",
        "-10%3"
      ],
      "metadata": {
        "colab": {
          "base_uri": "https://localhost:8080/"
        },
        "id": "RFOnOmm-ifAm",
        "outputId": "85a8f391-cdeb-43ed-e4ee-c8d3cf02247c"
      },
      "execution_count": null,
      "outputs": [
        {
          "output_type": "execute_result",
          "data": {
            "text/plain": [
              "2"
            ]
          },
          "metadata": {},
          "execution_count": 6
        }
      ]
    },
    {
      "cell_type": "code",
      "source": [
        "#Workaround for this is\n",
        "import math\n",
        "math.fmod(-10, 3)"
      ],
      "metadata": {
        "colab": {
          "base_uri": "https://localhost:8080/"
        },
        "id": "_5eTBZc8iqyh",
        "outputId": "6a3d6202-a1e4-43b4-8b21-fbe75c570794"
      },
      "execution_count": null,
      "outputs": [
        {
          "output_type": "execute_result",
          "data": {
            "text/plain": [
              "-1.0"
            ]
          },
          "metadata": {},
          "execution_count": 7
        }
      ]
    },
    {
      "cell_type": "code",
      "source": [
        "#Some stuff with math function\n",
        "print(math.floor(3/2))\n",
        "print(math.ceil(3/2))"
      ],
      "metadata": {
        "colab": {
          "base_uri": "https://localhost:8080/"
        },
        "id": "aiprWW_3i10c",
        "outputId": "67204096-8596-43a9-8540-260f79f820fe"
      },
      "execution_count": null,
      "outputs": [
        {
          "output_type": "stream",
          "name": "stdout",
          "text": [
            "1\n",
            "2\n"
          ]
        }
      ]
    },
    {
      "cell_type": "code",
      "source": [
        "#Max and min integers\n",
        "float(\"inf\")\n",
        "float(\"-inf\")"
      ],
      "metadata": {
        "colab": {
          "base_uri": "https://localhost:8080/"
        },
        "id": "PI0OaVgbjB_9",
        "outputId": "03fe7812-fab2-4851-d47a-2aadcb2234d4"
      },
      "execution_count": null,
      "outputs": [
        {
          "output_type": "execute_result",
          "data": {
            "text/plain": [
              "-inf"
            ]
          },
          "metadata": {},
          "execution_count": 9
        }
      ]
    },
    {
      "cell_type": "markdown",
      "source": [
        "# Arrays"
      ],
      "metadata": {
        "id": "Jw7LdHeNjWEp"
      }
    },
    {
      "cell_type": "code",
      "source": [
        "#Arrays in python are dynamic and can be used as stacks\n",
        "arr = [0,1,2,3]\n",
        "arr.append(4)\n",
        "print(arr)\n",
        "arr.pop()\n",
        "print(arr)"
      ],
      "metadata": {
        "colab": {
          "base_uri": "https://localhost:8080/"
        },
        "id": "j6dvZF6WjLnS",
        "outputId": "1d45d3be-b2b5-42a7-ade5-03ac951dd0dc"
      },
      "execution_count": null,
      "outputs": [
        {
          "output_type": "stream",
          "name": "stdout",
          "text": [
            "[0, 1, 2, 3, 4]\n",
            "[0, 1, 2, 3]\n"
          ]
        }
      ]
    },
    {
      "cell_type": "code",
      "source": [
        "#we can insert at given indices\n",
        "arr.insert(1, 8)\n",
        "print(arr)"
      ],
      "metadata": {
        "colab": {
          "base_uri": "https://localhost:8080/"
        },
        "id": "zsEI5CKGjnFF",
        "outputId": "2f1db0d9-530e-4c82-b269-4af6852256d0"
      },
      "execution_count": null,
      "outputs": [
        {
          "output_type": "stream",
          "name": "stdout",
          "text": [
            "[0, 8, 1, 2, 3]\n"
          ]
        }
      ]
    },
    {
      "cell_type": "code",
      "source": [
        "a,b,c,d,e = arr #unpacks values from array\n",
        "print(a)\n",
        "print(b)\n",
        "print(c)\n",
        "print(d)\n",
        "print(e)"
      ],
      "metadata": {
        "colab": {
          "base_uri": "https://localhost:8080/"
        },
        "id": "iZukAG5Pj2uk",
        "outputId": "70e0057e-04f9-4a43-8903-5a91b6bd1bc1"
      },
      "execution_count": null,
      "outputs": [
        {
          "output_type": "stream",
          "name": "stdout",
          "text": [
            "0\n",
            "8\n",
            "1\n",
            "2\n",
            "3\n"
          ]
        }
      ]
    },
    {
      "cell_type": "code",
      "source": [
        "#Loop through arrays\n",
        "#using index\n",
        "for i in range(len(arr)):\n",
        "  print(arr[i])\n",
        "print(\"___________\")\n",
        "#without index\n",
        "for x in arr:\n",
        "  print(x)\n",
        "print(\"___________\")\n",
        "#with index and value\n",
        "for i,x in enumerate(arr):\n",
        "  print(i,x)"
      ],
      "metadata": {
        "colab": {
          "base_uri": "https://localhost:8080/"
        },
        "id": "8T_g3Q-hkc0R",
        "outputId": "3f9c6d3b-ea0e-4cca-c8e4-7c04462fbac6"
      },
      "execution_count": null,
      "outputs": [
        {
          "output_type": "stream",
          "name": "stdout",
          "text": [
            "0\n",
            "8\n",
            "1\n",
            "2\n",
            "3\n",
            "___________\n",
            "0\n",
            "8\n",
            "1\n",
            "2\n",
            "3\n",
            "___________\n",
            "0 0\n",
            "1 8\n",
            "2 1\n",
            "3 2\n",
            "4 3\n"
          ]
        }
      ]
    },
    {
      "cell_type": "code",
      "source": [
        "#Loop through multiple arrays using unpacking\n",
        "arr2 = [5,6,7,8,9]\n",
        "for x,y in zip(arr, arr2):\n",
        "  print(x,y)"
      ],
      "metadata": {
        "colab": {
          "base_uri": "https://localhost:8080/"
        },
        "id": "GVvMPv-6kxT7",
        "outputId": "d5fb03c7-cff6-40ad-9707-742380b06741"
      },
      "execution_count": null,
      "outputs": [
        {
          "output_type": "stream",
          "name": "stdout",
          "text": [
            "0 5\n",
            "8 6\n",
            "1 7\n",
            "2 8\n",
            "3 9\n"
          ]
        }
      ]
    },
    {
      "cell_type": "code",
      "source": [
        "#Reverse an array\n",
        "arr.reverse()\n",
        "print(arr)"
      ],
      "metadata": {
        "colab": {
          "base_uri": "https://localhost:8080/"
        },
        "id": "YIg951b6lHLl",
        "outputId": "9e969de4-0a95-467e-f001-dbad1e8544f5"
      },
      "execution_count": null,
      "outputs": [
        {
          "output_type": "stream",
          "name": "stdout",
          "text": [
            "[3, 2, 1, 8, 0]\n"
          ]
        }
      ]
    },
    {
      "cell_type": "code",
      "source": [
        "#Sorting an array\n",
        "arr.sort(reverse=True)\n",
        "print(arr)"
      ],
      "metadata": {
        "colab": {
          "base_uri": "https://localhost:8080/"
        },
        "id": "AEamapPYlPtL",
        "outputId": "e942dc8d-fd22-45c1-c422-43e32d776a89"
      },
      "execution_count": null,
      "outputs": [
        {
          "output_type": "stream",
          "name": "stdout",
          "text": [
            "[8, 3, 2, 1, 0]\n"
          ]
        }
      ]
    },
    {
      "cell_type": "code",
      "source": [
        "#Sorting text arrays\n",
        "texts = ['bob', 'alice', 'charlie']\n",
        "texts.sort()\n",
        "print(texts)"
      ],
      "metadata": {
        "colab": {
          "base_uri": "https://localhost:8080/"
        },
        "id": "LWe-asJBlVG6",
        "outputId": "1d5d7572-05e3-4f34-8fe2-452a35a454ff"
      },
      "execution_count": null,
      "outputs": [
        {
          "output_type": "stream",
          "name": "stdout",
          "text": [
            "['alice', 'bob', 'charlie']\n"
          ]
        }
      ]
    },
    {
      "cell_type": "code",
      "source": [
        "#Sorting by custom value\n",
        "texts.sort(key=len, reverse=True)\n",
        "print(texts)"
      ],
      "metadata": {
        "colab": {
          "base_uri": "https://localhost:8080/"
        },
        "id": "8quKRy4lljsW",
        "outputId": "02348206-5dbd-450d-98f7-a690673fce2f"
      },
      "execution_count": null,
      "outputs": [
        {
          "output_type": "stream",
          "name": "stdout",
          "text": [
            "['charlie', 'alice', 'bob']\n"
          ]
        }
      ]
    },
    {
      "cell_type": "code",
      "source": [
        "#List Comprehensions\n",
        "arr = [x for x in range(4)]\n",
        "print(arr)\n",
        "arr = [x+x for x in range(4)]\n",
        "print(arr)"
      ],
      "metadata": {
        "colab": {
          "base_uri": "https://localhost:8080/"
        },
        "id": "BLMkM0o5lo6u",
        "outputId": "28d7ee33-5c6c-4a79-938d-56dbcdfdc8bb"
      },
      "execution_count": null,
      "outputs": [
        {
          "output_type": "stream",
          "name": "stdout",
          "text": [
            "[0, 1, 2, 3]\n",
            "[0, 2, 4, 6]\n"
          ]
        }
      ]
    },
    {
      "cell_type": "code",
      "source": [
        "#List comprehension with 2d array\n",
        "arr = [[0] * 4 for i in range(4)]\n",
        "print(arr)"
      ],
      "metadata": {
        "colab": {
          "base_uri": "https://localhost:8080/"
        },
        "id": "16vgqnIdl8Oi",
        "outputId": "cc8fed44-9411-4ce4-8d56-cbf95b013e7c"
      },
      "execution_count": null,
      "outputs": [
        {
          "output_type": "stream",
          "name": "stdout",
          "text": [
            "[[0, 0, 0, 0], [0, 0, 0, 0], [0, 0, 0, 0], [0, 0, 0, 0]]\n"
          ]
        }
      ]
    },
    {
      "cell_type": "markdown",
      "source": [
        "# Strings\n"
      ],
      "metadata": {
        "id": "SbKYg4_Vm-dQ"
      }
    },
    {
      "cell_type": "code",
      "source": [
        "#Strings are like arrays but immutable\n",
        "s = 'abc'\n",
        "print(s[0:2])\n",
        "#s[0] = 'A' <- runs error\n",
        "#print(s)"
      ],
      "metadata": {
        "colab": {
          "base_uri": "https://localhost:8080/"
        },
        "id": "KsWH0v95mQR-",
        "outputId": "055aa662-f12b-4624-dc0b-d3d64bb0d7ba"
      },
      "execution_count": null,
      "outputs": [
        {
          "output_type": "stream",
          "name": "stdout",
          "text": [
            "ab\n"
          ]
        }
      ]
    },
    {
      "cell_type": "code",
      "source": [
        "#modifying a string creates a new string in n time operation\n",
        "s += 'def'\n",
        "s"
      ],
      "metadata": {
        "colab": {
          "base_uri": "https://localhost:8080/",
          "height": 36
        },
        "id": "dd-ZVQ9JnHxc",
        "outputId": "f2c20ea0-3ccc-4765-8e8b-cd32b0b4ebc4"
      },
      "execution_count": null,
      "outputs": [
        {
          "output_type": "execute_result",
          "data": {
            "text/plain": [
              "'abcdef'"
            ],
            "application/vnd.google.colaboratory.intrinsic+json": {
              "type": "string"
            }
          },
          "metadata": {},
          "execution_count": 35
        }
      ]
    },
    {
      "cell_type": "code",
      "source": [
        "#Combining list of strings\n",
        "list = ['ab','cd','ef']\n",
        "\"\".join(list)"
      ],
      "metadata": {
        "colab": {
          "base_uri": "https://localhost:8080/",
          "height": 36
        },
        "id": "VNHFb07KndrP",
        "outputId": "839466d4-76fa-4ab0-aa2d-94e31f112581"
      },
      "execution_count": null,
      "outputs": [
        {
          "output_type": "execute_result",
          "data": {
            "text/plain": [
              "'abcdef'"
            ],
            "application/vnd.google.colaboratory.intrinsic+json": {
              "type": "string"
            }
          },
          "metadata": {},
          "execution_count": 36
        }
      ]
    },
    {
      "cell_type": "markdown",
      "source": [
        "# Queues\n"
      ],
      "metadata": {
        "id": "xIKTGOsqn4kN"
      }
    },
    {
      "cell_type": "code",
      "source": [
        "from collections import deque\n",
        "queue = deque()\n",
        "queue.append(1)\n",
        "queue.append(2)\n",
        "queue.append(3)\n",
        "print(queue)\n",
        "print(queue.popleft())\n",
        "print(queue)\n",
        "queue.appendleft(0)\n",
        "print(queue)\n",
        "queue.pop()\n",
        "print(queue)"
      ],
      "metadata": {
        "colab": {
          "base_uri": "https://localhost:8080/"
        },
        "id": "Mbe7X_HRn7l1",
        "outputId": "451efc13-8762-4db1-906d-f1dbef985b51"
      },
      "execution_count": null,
      "outputs": [
        {
          "output_type": "stream",
          "name": "stdout",
          "text": [
            "deque([1, 2, 3])\n",
            "1\n",
            "deque([2, 3])\n",
            "deque([0, 2, 3])\n",
            "deque([0, 2])\n"
          ]
        }
      ]
    },
    {
      "cell_type": "markdown",
      "source": [
        "# Hash sets are constant time search"
      ],
      "metadata": {
        "id": "D_qXvcDroW0r"
      }
    },
    {
      "cell_type": "code",
      "source": [
        "myset = set()\n",
        "\n",
        "myset.add(1)\n",
        "myset.add(2)\n",
        "myset.add(3)\n",
        "\n",
        "print(1 in myset)\n",
        "print(4 in myset)\n",
        "\n",
        "myset.remove(2)\n",
        "print(2 in myset)"
      ],
      "metadata": {
        "colab": {
          "base_uri": "https://localhost:8080/"
        },
        "id": "88UcydIZoBlf",
        "outputId": "f40f945e-0b24-4a80-f41a-6c065c2fdb8b"
      },
      "execution_count": null,
      "outputs": [
        {
          "output_type": "stream",
          "name": "stdout",
          "text": [
            "True\n",
            "False\n",
            "False\n"
          ]
        }
      ]
    },
    {
      "cell_type": "code",
      "source": [
        "#Like lists we can add to it both explicity and with loop\n",
        "print(set([1,2,3]))\n",
        "\n",
        "myset = { i for i in range(5)}\n",
        "print(myset)"
      ],
      "metadata": {
        "colab": {
          "base_uri": "https://localhost:8080/"
        },
        "id": "FRerpdhyofj-",
        "outputId": "ebc936d9-8205-440a-d852-b7f41adde05d"
      },
      "execution_count": null,
      "outputs": [
        {
          "output_type": "stream",
          "name": "stdout",
          "text": [
            "{1, 2, 3}\n",
            "{0, 1, 2, 3, 4}\n"
          ]
        }
      ]
    },
    {
      "cell_type": "markdown",
      "source": [
        "#Hashmaps\n"
      ],
      "metadata": {
        "id": "B07dFq3to-RC"
      }
    },
    {
      "cell_type": "code",
      "source": [
        "mymap = {} #no duplicate keys\n",
        "mymap['a'] = 1\n",
        "mymap['b'] = 2\n",
        "mymap['c'] = 3\n",
        "print(mymap)\n",
        "print(mymap['b'])\n"
      ],
      "metadata": {
        "colab": {
          "base_uri": "https://localhost:8080/"
        },
        "id": "q6Ug1uOqpAky",
        "outputId": "ee8c2554-66fd-4a57-a8f1-223d38395130"
      },
      "execution_count": null,
      "outputs": [
        {
          "output_type": "stream",
          "name": "stdout",
          "text": [
            "{'a': 1, 'b': 2, 'c': 3}\n",
            "2\n"
          ]
        }
      ]
    },
    {
      "cell_type": "code",
      "source": [
        "print(len(mymap)) #prints number of keys.\n",
        "mymap['a'] = 42\n",
        "print(mymap)"
      ],
      "metadata": {
        "colab": {
          "base_uri": "https://localhost:8080/"
        },
        "id": "p8wtF9qvpFeY",
        "outputId": "7b6899f5-208a-4bfe-d223-ddb43f89a4dc"
      },
      "execution_count": null,
      "outputs": [
        {
          "output_type": "stream",
          "name": "stdout",
          "text": [
            "3\n",
            "{'a': 42, 'b': 2, 'c': 3}\n"
          ]
        }
      ]
    },
    {
      "cell_type": "code",
      "source": [
        "mymap.pop('a')\n",
        "print(mymap)"
      ],
      "metadata": {
        "colab": {
          "base_uri": "https://localhost:8080/"
        },
        "id": "o9g58j-6pOU-",
        "outputId": "ab63d787-454d-4ad6-d507-92ec1720c5e9"
      },
      "execution_count": null,
      "outputs": [
        {
          "output_type": "stream",
          "name": "stdout",
          "text": [
            "{'b': 2, 'c': 3}\n"
          ]
        }
      ]
    },
    {
      "cell_type": "code",
      "source": [
        "mymap = {'sam': 42, 'ben':21}\n",
        "print(mymap)"
      ],
      "metadata": {
        "colab": {
          "base_uri": "https://localhost:8080/"
        },
        "id": "m7tni3jcpduk",
        "outputId": "8880a30d-00a3-4178-9b22-000bc86c985d"
      },
      "execution_count": null,
      "outputs": [
        {
          "output_type": "stream",
          "name": "stdout",
          "text": [
            "{'sam': 42, 'ben': 21}\n"
          ]
        }
      ]
    },
    {
      "cell_type": "code",
      "source": [
        "#dict comprehension\n",
        "mymap = {i: i*2 for i in range(3)}\n",
        "print(mymap)"
      ],
      "metadata": {
        "colab": {
          "base_uri": "https://localhost:8080/"
        },
        "id": "cYec0hFZpkVa",
        "outputId": "d4f4b3dd-5f66-48df-9f66-973d525ffd00"
      },
      "execution_count": null,
      "outputs": [
        {
          "output_type": "stream",
          "name": "stdout",
          "text": [
            "{0: 0, 1: 2, 2: 4}\n"
          ]
        }
      ]
    },
    {
      "cell_type": "code",
      "source": [
        "#looping through the dict based on key or value\n",
        "for key in mymap:\n",
        "  print(key, mymap[key])\n",
        "\n",
        "for val in mymap.values():\n",
        "  print(val)\n",
        "\n",
        "for key, val in mymap.items():\n",
        "  print(key, val)"
      ],
      "metadata": {
        "colab": {
          "base_uri": "https://localhost:8080/"
        },
        "id": "rWIzEs_eqEE4",
        "outputId": "ad97d3e7-c52c-4cf9-9f82-de202369b76a"
      },
      "execution_count": null,
      "outputs": [
        {
          "output_type": "stream",
          "name": "stdout",
          "text": [
            "0 0\n",
            "1 2\n",
            "2 4\n",
            "0\n",
            "2\n",
            "4\n",
            "0 0\n",
            "1 2\n",
            "2 4\n"
          ]
        }
      ]
    },
    {
      "cell_type": "code",
      "source": [],
      "metadata": {
        "id": "G2weiBEgqP2X"
      },
      "execution_count": null,
      "outputs": []
    },
    {
      "cell_type": "markdown",
      "source": [
        "#Tuples are immutable arrays"
      ],
      "metadata": {
        "id": "nmeuvviWqUt8"
      }
    },
    {
      "cell_type": "code",
      "source": [
        "tup = (0,1,2)\n",
        "print(tup[0])\n",
        "print(tup[-1])"
      ],
      "metadata": {
        "colab": {
          "base_uri": "https://localhost:8080/"
        },
        "id": "n0zaK4WPqW9s",
        "outputId": "991db3c2-3fe9-4de5-b0b2-12db6ca78de7"
      },
      "execution_count": null,
      "outputs": [
        {
          "output_type": "stream",
          "name": "stdout",
          "text": [
            "0\n",
            "2\n"
          ]
        }
      ]
    },
    {
      "cell_type": "code",
      "source": [
        "# cant modify them\n",
        "tup[0] = 2"
      ],
      "metadata": {
        "colab": {
          "base_uri": "https://localhost:8080/",
          "height": 166
        },
        "id": "0V2594cNqZF3",
        "outputId": "cecc324a-bd07-4991-e126-2e67ae947938"
      },
      "execution_count": null,
      "outputs": [
        {
          "output_type": "error",
          "ename": "TypeError",
          "evalue": "'tuple' object does not support item assignment",
          "traceback": [
            "\u001b[0;31m---------------------------------------------------------------------------\u001b[0m",
            "\u001b[0;31mTypeError\u001b[0m                                 Traceback (most recent call last)",
            "\u001b[0;32m<ipython-input-51-0aeeab53e970>\u001b[0m in \u001b[0;36m<cell line: 2>\u001b[0;34m()\u001b[0m\n\u001b[1;32m      1\u001b[0m \u001b[0;31m# cant modify them\u001b[0m\u001b[0;34m\u001b[0m\u001b[0;34m\u001b[0m\u001b[0m\n\u001b[0;32m----> 2\u001b[0;31m \u001b[0mtup\u001b[0m\u001b[0;34m[\u001b[0m\u001b[0;36m0\u001b[0m\u001b[0;34m]\u001b[0m \u001b[0;34m=\u001b[0m \u001b[0;36m2\u001b[0m\u001b[0;34m\u001b[0m\u001b[0;34m\u001b[0m\u001b[0m\n\u001b[0m",
            "\u001b[0;31mTypeError\u001b[0m: 'tuple' object does not support item assignment"
          ]
        }
      ]
    },
    {
      "cell_type": "code",
      "source": [
        "# can be used as keys for a hashset\n",
        "mymap  = {(1,2): 3, (4,5): 6}\n",
        "print(mymap[(1,2)])"
      ],
      "metadata": {
        "colab": {
          "base_uri": "https://localhost:8080/"
        },
        "id": "N-2P55WLqjqi",
        "outputId": "96e2be07-e860-4634-a161-f4bae9ed053f"
      },
      "execution_count": null,
      "outputs": [
        {
          "output_type": "stream",
          "name": "stdout",
          "text": [
            "3\n"
          ]
        }
      ]
    },
    {
      "cell_type": "code",
      "source": [],
      "metadata": {
        "id": "r65ePAgGqtov"
      },
      "execution_count": null,
      "outputs": []
    }
  ]
}