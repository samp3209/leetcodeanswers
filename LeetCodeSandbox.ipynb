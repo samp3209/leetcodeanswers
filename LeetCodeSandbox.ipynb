{
  "nbformat": 4,
  "nbformat_minor": 0,
  "metadata": {
    "colab": {
      "provenance": [],
      "toc_visible": true,
      "authorship_tag": "ABX9TyMuYfvTBARmLYGA1jM3Dswc",
      "include_colab_link": true
    },
    "kernelspec": {
      "name": "python3",
      "display_name": "Python 3"
    },
    "language_info": {
      "name": "python"
    }
  },
  "cells": [
    {
      "cell_type": "markdown",
      "metadata": {
        "id": "view-in-github",
        "colab_type": "text"
      },
      "source": [
        "<a href=\"https://colab.research.google.com/github/samp3209/leetcodeanswers/blob/main/LeetCodeSandbox.ipynb\" target=\"_parent\"><img src=\"https://colab.research.google.com/assets/colab-badge.svg\" alt=\"Open In Colab\"/></a>"
      ]
    },
    {
      "cell_type": "markdown",
      "source": [
        "For annoying stuff in python that I have to constantly look up"
      ],
      "metadata": {
        "id": "Xv9Q1NfJh7mt"
      }
    },
    {
      "cell_type": "markdown",
      "source": [
        "# Pandas"
      ],
      "metadata": {
        "id": "n26KG7h7kstz"
      }
    },
    {
      "cell_type": "code",
      "source": [
        "import pandas as pd\n",
        "import numpy as np\n",
        "from sklearn.preprocessing import LabelEncoder\n",
        "# Sample data with issues\n",
        "data = {\n",
        "    'age': [25, 30, np.nan, 45, 200, 35],\n",
        "    'income': [50000, 70000, 65000, np.nan, 85000, 55000],\n",
        "    'education': ['high school', 'bachelor', 'master', 'phd', 'bachelor', np.nan],\n",
        "    'category': ['A', 'B', 'A', 'C', 'B', 'A']\n",
        "}\n",
        "\n",
        "df = pd.DataFrame(data)\n",
        "le_e = LabelEncoder()\n",
        "le_c = LabelEncoder()\n",
        "\n",
        "# Display the original DataFrame\n",
        "print(\"Original DataFrame:\")\n",
        "print(df)\n",
        "df['income'] = df['income'].fillna(df['income'].mean())\n",
        "df['age'] = df['age'].fillna(df['age'].mean())\n",
        "df['education'] = df['education'].fillna(df['education'].mode()[0])\n",
        "\n",
        "print('Cleaned DF')\n",
        "print(df)\n",
        "\n",
        "df['education'] = le_e.fit_transform(df['education'])\n",
        "df['category'] = le_c.fit_transform(df['category'])\n",
        "print('Encoded DF')\n",
        "print(df)\n",
        "\n",
        "df['education'] = le_e.inverse_transform(df['education'])\n",
        "df['category'] = le_c.inverse_transform(df['category'])\n",
        "print('Decoded DF')\n",
        "print(df)"
      ],
      "metadata": {
        "colab": {
          "base_uri": "https://localhost:8080/"
        },
        "id": "lGld0PK-kvcD",
        "outputId": "1ac850ec-ea01-4eba-e0eb-f35b6db51287"
      },
      "execution_count": null,
      "outputs": [
        {
          "output_type": "stream",
          "name": "stdout",
          "text": [
            "Original DataFrame:\n",
            "     age   income    education category\n",
            "0   25.0  50000.0  high school        A\n",
            "1   30.0  70000.0     bachelor        B\n",
            "2    NaN  65000.0       master        A\n",
            "3   45.0      NaN          phd        C\n",
            "4  200.0  85000.0     bachelor        B\n",
            "5   35.0  55000.0          NaN        A\n",
            "Cleaned DF\n",
            "     age   income    education category\n",
            "0   25.0  50000.0  high school        A\n",
            "1   30.0  70000.0     bachelor        B\n",
            "2   67.0  65000.0       master        A\n",
            "3   45.0  65000.0          phd        C\n",
            "4  200.0  85000.0     bachelor        B\n",
            "5   35.0  55000.0     bachelor        A\n",
            "Encoded DF\n",
            "     age   income  education  category\n",
            "0   25.0  50000.0          1         0\n",
            "1   30.0  70000.0          0         1\n",
            "2   67.0  65000.0          2         0\n",
            "3   45.0  65000.0          3         2\n",
            "4  200.0  85000.0          0         1\n",
            "5   35.0  55000.0          0         0\n",
            "Decoded DF\n",
            "     age   income    education category\n",
            "0   25.0  50000.0  high school        A\n",
            "1   30.0  70000.0     bachelor        B\n",
            "2   67.0  65000.0       master        A\n",
            "3   45.0  65000.0          phd        C\n",
            "4  200.0  85000.0     bachelor        B\n",
            "5   35.0  55000.0     bachelor        A\n"
          ]
        }
      ]
    },
    {
      "cell_type": "markdown",
      "source": [
        "# New Section"
      ],
      "metadata": {
        "id": "hMes5nIRqQaT"
      }
    },
    {
      "cell_type": "code",
      "source": [
        "import numpy as np\n",
        "import matplotlib.pyplot as plt\n",
        "from sklearn.datasets import make_classification\n",
        "from sklearn.model_selection import train_test_split\n",
        "from sklearn.linear_model import LogisticRegression\n",
        "\n",
        "# Generate sample data\n",
        "X, y = make_classification(n_samples=1000, n_features=10, random_state=42)\n",
        "X_train, X_test, y_train, y_test = train_test_split(X, y, test_size=0.2, random_state=42)\n",
        "\n",
        "# Train a simple model\n",
        "model = LogisticRegression()\n",
        "model.fit(X_train, y_train)\n",
        "y_pred = model.predict(X_test)\n",
        "y_prob = model.predict_proba(X_test)[:, 1]\n",
        "\n",
        "# Task 1: Calculate metrics manually\n",
        "def calculate_metrics(y_true, y_pred):\n",
        "    \"\"\"Calculate accuracy, precision, recall, F1 score manually.\"\"\"\n",
        "    # True Positives, True Negatives, False Positives, False Negatives\n",
        "    tp = np.sum((y_true == 1) & (y_pred == 1))\n",
        "    tn = np.sum((y_true == 0) & (y_pred == 0))\n",
        "    fp = np.sum((y_true == 0) & (y_pred == 1))\n",
        "    fn = np.sum((y_true == 1) & (y_pred == 0))\n",
        "\n",
        "    # Calculate metrics\n",
        "    accuracy = (tp + tn) / (tp + tn + fp + fn)\n",
        "    precision = tp / (tp + fp) if (tp + fp) > 0 else 0\n",
        "    recall = tp / (tp + fn) if (tp + fn) > 0 else 0\n",
        "    f1 = 2 * (precision * recall) / (precision + recall) if (precision + recall) > 0 else 0\n",
        "\n",
        "    return {\n",
        "        'accuracy': accuracy,\n",
        "        'precision': precision,\n",
        "        'recall': recall,\n",
        "        'f1_score': f1,\n",
        "        'confusion_matrix': [[tn, fp], [fn, tp]]\n",
        "    }\n",
        "\n",
        "def plot_roc_curve(y_true, y_prob):\n",
        "    \"\"\"Plot ROC curve and calculate AUC.\"\"\"\n",
        "    # Calculate ROC curve\n",
        "    thresholds = np.linspace(0, 1, 100)\n",
        "    tpr = []  # True Positive Rate\n",
        "    fpr = []  # False Positive Rate\n",
        "\n",
        "    for threshold in thresholds:\n",
        "        y_pred_threshold = (y_prob >= threshold).astype(int)\n",
        "\n",
        "        tp = np.sum((y_true == 1) & (y_pred_threshold == 1))\n",
        "        fn = np.sum((y_true == 1) & (y_pred_threshold == 0))\n",
        "        fp = np.sum((y_true == 0) & (y_pred_threshold == 1))\n",
        "        tn = np.sum((y_true == 0) & (y_pred_threshold == 0))\n",
        "\n",
        "        tpr.append(tp / (tp + fn) if (tp + fn) > 0 else 0)\n",
        "        fpr.append(fp / (fp + tn) if (fp + tn) > 0 else 0)\n",
        "\n",
        "    # Sort points by FPR (needed for AUC calculation)\n",
        "    points = sorted(zip(fpr, tpr), key=lambda x: x[0])\n",
        "    fpr_sorted, tpr_sorted = zip(*points)\n",
        "\n",
        "    # Calculate AUC using trapezoidal rule\n",
        "    auc = 0\n",
        "    for i in range(len(fpr_sorted) - 1):\n",
        "        # Width × average height\n",
        "        width = fpr_sorted[i+1] - fpr_sorted[i]\n",
        "        height = (tpr_sorted[i] + tpr_sorted[i+1]) / 2\n",
        "        auc += width * height\n",
        "\n",
        "    # Plot ROC curve\n",
        "    plt.figure(figsize=(8, 6))\n",
        "    plt.plot(fpr_sorted, tpr_sorted, label=f'AUC = {auc:.3f}')\n",
        "    plt.plot([0, 1], [0, 1], 'k--')\n",
        "    plt.xlabel('False Positive Rate')\n",
        "    plt.ylabel('True Positive Rate')\n",
        "    plt.title('ROC Curve')\n",
        "    plt.legend()\n",
        "    plt.grid(True)\n",
        "    plt.show()\n",
        "\n",
        "    return auc\n",
        "\n",
        "# Task 3: Implement k-fold cross-validation\n",
        "def k_fold_cross_validation(X, y, model, k=5):\n",
        "    \"\"\"Implement k-fold cross-validation from scratch.\"\"\"\n",
        "    # Shuffle the data\n",
        "    indices = np.random.permutation(len(X))\n",
        "    X_shuffled = X[indices]\n",
        "    y_shuffled = y[indices]\n",
        "\n",
        "    # Create k folds\n",
        "    fold_size = len(X) // k\n",
        "    scores = []\n",
        "\n",
        "    for i in range(k):\n",
        "        # Create validation fold\n",
        "        start = i * fold_size\n",
        "        end = (i + 1) * fold_size if i < k - 1 else len(X)\n",
        "\n",
        "        X_val = X_shuffled[start:end]\n",
        "        y_val = y_shuffled[start:end]\n",
        "\n",
        "        # Create training folds\n",
        "        X_train = np.concatenate([X_shuffled[:start], X_shuffled[end:]])\n",
        "        y_train = np.concatenate([y_shuffled[:start], y_shuffled[end:]])\n",
        "\n",
        "        # Train model\n",
        "        model.fit(X_train, y_train)\n",
        "\n",
        "        # Evaluate model\n",
        "        score = model.score(X_val, y_val)\n",
        "        scores.append(score)\n",
        "\n",
        "    return scores, np.mean(scores), np.std(scores)\n",
        "\n",
        "# Execute the tasks\n",
        "metrics = calculate_metrics(y_test, y_pred)\n",
        "print(\"Metrics:\")\n",
        "for metric, value in metrics.items():\n",
        "    if metric != 'confusion_matrix':\n",
        "        print(f\"{metric}: {value:.4f}\")\n",
        "    else:\n",
        "        print(f\"{metric}:\")\n",
        "        print(np.array(value))\n",
        "\n",
        "auc = plot_roc_curve(y_test, y_prob)\n",
        "print(f\"AUC: {auc:.4f}\")\n",
        "\n",
        "cv_scores, mean_cv, std_cv = k_fold_cross_validation(X, y, LogisticRegression(), k=5)\n",
        "print(f\"Cross-validation scores: {cv_scores}\")\n",
        "print(f\"Mean CV score: {mean_cv:.4f}\")\n",
        "print(f\"Standard deviation: {std_cv:.4f}\")"
      ],
      "metadata": {
        "colab": {
          "base_uri": "https://localhost:8080/",
          "height": 785
        },
        "id": "OOyNZYA1qF7Z",
        "outputId": "2691dbef-58e8-4780-d6d1-29e72aadc5a8"
      },
      "execution_count": null,
      "outputs": [
        {
          "output_type": "stream",
          "name": "stdout",
          "text": [
            "Metrics:\n",
            "accuracy: 0.8300\n",
            "precision: 0.8667\n",
            "recall: 0.8198\n",
            "f1_score: 0.8426\n",
            "confusion_matrix:\n",
            "[[75 14]\n",
            " [20 91]]\n"
          ]
        },
        {
          "output_type": "display_data",
          "data": {
            "text/plain": [
              "<Figure size 800x600 with 1 Axes>"
            ],
            "image/png": "[encoded data removed]"
          },
          "metadata": {}
        },
        {
          "output_type": "stream",
          "name": "stdout",
          "text": [
            "AUC: 0.9083\n",
            "Cross-validation scores: [0.865, 0.855, 0.885, 0.855, 0.84]\n",
            "Mean CV score: 0.8600\n",
            "Standard deviation: 0.0148\n"
          ]
        }
      ]
    },
    {
      "cell_type": "code",
      "source": [],
      "metadata": {
        "id": "cxyRnFjmpKp8"
      },
      "execution_count": null,
      "outputs": []
    },
    {
      "cell_type": "markdown",
      "source": [
        "#**Math**"
      ],
      "metadata": {
        "id": "oggxpLMXiipe"
      }
    },
    {
      "cell_type": "code",
      "execution_count": null,
      "metadata": {
        "colab": {
          "base_uri": "https://localhost:8080/"
        },
        "id": "SjbDR2Rvh4Vx",
        "outputId": "550cbaf9-ac6a-4725-d420-e8266a3a5153"
      },
      "outputs": [
        {
          "output_type": "execute_result",
          "data": {
            "text/plain": [
              "1.5"
            ]
          },
          "metadata": {},
          "execution_count": 1
        }
      ],
      "source": [
        "#Division by default is division\n",
        "3/2"
      ]
    },
    {
      "cell_type": "code",
      "source": [
        "# Double slash rounds DOWN\n",
        "3//2"
      ],
      "metadata": {
        "colab": {
          "base_uri": "https://localhost:8080/"
        },
        "id": "SS6sIT53iGqF",
        "outputId": "7977dfa2-2163-48a0-ea10-7b7d4f064ab6"
      },
      "execution_count": null,
      "outputs": [
        {
          "output_type": "execute_result",
          "data": {
            "text/plain": [
              "1"
            ]
          },
          "metadata": {},
          "execution_count": 2
        }
      ]
    },
    {
      "cell_type": "code",
      "source": [
        "#Negatives will round down\n",
        "-3//2"
      ],
      "metadata": {
        "colab": {
          "base_uri": "https://localhost:8080/"
        },
        "id": "VJT6n2GHiMBz",
        "outputId": "dc083f31-6166-4cf7-cf01-ff52953dc5d8"
      },
      "execution_count": null,
      "outputs": [
        {
          "output_type": "execute_result",
          "data": {
            "text/plain": [
              "-2"
            ]
          },
          "metadata": {},
          "execution_count": 3
        }
      ]
    },
    {
      "cell_type": "code",
      "source": [
        "#Workaround to round up\n",
        "int(-3/2)"
      ],
      "metadata": {
        "colab": {
          "base_uri": "https://localhost:8080/"
        },
        "id": "nwFV5-GEiSgi",
        "outputId": "365599c0-1bde-475e-b10a-d57dda710f5f"
      },
      "execution_count": null,
      "outputs": [
        {
          "output_type": "execute_result",
          "data": {
            "text/plain": [
              "-1"
            ]
          },
          "metadata": {},
          "execution_count": 4
        }
      ]
    },
    {
      "cell_type": "code",
      "source": [
        "#Modding is normal for positive\n",
        "10%3"
      ],
      "metadata": {
        "colab": {
          "base_uri": "https://localhost:8080/"
        },
        "id": "bYnd2S2PiWPJ",
        "outputId": "b05d7444-6284-40fc-8086-f0ff925fe129"
      },
      "execution_count": null,
      "outputs": [
        {
          "output_type": "execute_result",
          "data": {
            "text/plain": [
              "1"
            ]
          },
          "metadata": {},
          "execution_count": 5
        }
      ]
    },
    {
      "cell_type": "code",
      "source": [
        "#Negatives are a bit tricky\n",
        "-10%3"
      ],
      "metadata": {
        "colab": {
          "base_uri": "https://localhost:8080/"
        },
        "id": "RFOnOmm-ifAm",
        "outputId": "85a8f391-cdeb-43ed-e4ee-c8d3cf02247c"
      },
      "execution_count": null,
      "outputs": [
        {
          "output_type": "execute_result",
          "data": {
            "text/plain": [
              "2"
            ]
          },
          "metadata": {},
          "execution_count": 6
        }
      ]
    },
    {
      "cell_type": "code",
      "source": [
        "#Workaround for this is\n",
        "import math\n",
        "math.fmod(-10, 3)"
      ],
      "metadata": {
        "colab": {
          "base_uri": "https://localhost:8080/"
        },
        "id": "_5eTBZc8iqyh",
        "outputId": "6a3d6202-a1e4-43b4-8b21-fbe75c570794"
      },
      "execution_count": null,
      "outputs": [
        {
          "output_type": "execute_result",
          "data": {
            "text/plain": [
              "-1.0"
            ]
          },
          "metadata": {},
          "execution_count": 7
        }
      ]
    },
    {
      "cell_type": "code",
      "source": [
        "#Some stuff with math function\n",
        "print(math.floor(3/2))\n",
        "print(math.ceil(3/2))"
      ],
      "metadata": {
        "colab": {
          "base_uri": "https://localhost:8080/"
        },
        "id": "aiprWW_3i10c",
        "outputId": "67204096-8596-43a9-8540-260f79f820fe"
      },
      "execution_count": null,
      "outputs": [
        {
          "output_type": "stream",
          "name": "stdout",
          "text": [
            "1\n",
            "2\n"
          ]
        }
      ]
    },
    {
      "cell_type": "code",
      "source": [
        "#Max and min integers\n",
        "float(\"inf\")\n",
        "float(\"-inf\")"
      ],
      "metadata": {
        "colab": {
          "base_uri": "https://localhost:8080/"
        },
        "id": "PI0OaVgbjB_9",
        "outputId": "03fe7812-fab2-4851-d47a-2aadcb2234d4"
      },
      "execution_count": null,
      "outputs": [
        {
          "output_type": "execute_result",
          "data": {
            "text/plain": [
              "-inf"
            ]
          },
          "metadata": {},
          "execution_count": 9
        }
      ]
    },
    {
      "cell_type": "markdown",
      "source": [
        "# Arrays"
      ],
      "metadata": {
        "id": "Jw7LdHeNjWEp"
      }
    },
    {
      "cell_type": "code",
      "source": [
        "#Arrays in python are dynamic and can be used as stacks\n",
        "arr = [0,1,2,3]\n",
        "arr.append(4)\n",
        "print(arr)\n",
        "arr.pop()\n",
        "print(arr)"
      ],
      "metadata": {
        "colab": {
          "base_uri": "https://localhost:8080/"
        },
        "id": "j6dvZF6WjLnS",
        "outputId": "1d45d3be-b2b5-42a7-ade5-03ac951dd0dc"
      },
      "execution_count": null,
      "outputs": [
        {
          "output_type": "stream",
          "name": "stdout",
          "text": [
            "[0, 1, 2, 3, 4]\n",
            "[0, 1, 2, 3]\n"
          ]
        }
      ]
    },
    {
      "cell_type": "code",
      "source": [
        "#we can insert at given indices\n",
        "arr.insert(1, 8)\n",
        "print(arr)"
      ],
      "metadata": {
        "colab": {
          "base_uri": "https://localhost:8080/"
        },
        "id": "zsEI5CKGjnFF",
        "outputId": "2f1db0d9-530e-4c82-b269-4af6852256d0"
      },
      "execution_count": null,
      "outputs": [
        {
          "output_type": "stream",
          "name": "stdout",
          "text": [
            "[0, 8, 1, 2, 3]\n"
          ]
        }
      ]
    },
    {
      "cell_type": "code",
      "source": [
        "a,b,c,d,e = arr #unpacks values from array\n",
        "print(a)\n",
        "print(b)\n",
        "print(c)\n",
        "print(d)\n",
        "print(e)"
      ],
      "metadata": {
        "colab": {
          "base_uri": "https://localhost:8080/"
        },
        "id": "iZukAG5Pj2uk",
        "outputId": "70e0057e-04f9-4a43-8903-5a91b6bd1bc1"
      },
      "execution_count": null,
      "outputs": [
        {
          "output_type": "stream",
          "name": "stdout",
          "text": [
            "0\n",
            "8\n",
            "1\n",
            "2\n",
            "3\n"
          ]
        }
      ]
    },
    {
      "cell_type": "code",
      "source": [
        "#Loop through arrays\n",
        "#using index\n",
        "for i in range(len(arr)):\n",
        "  print(arr[i])\n",
        "print(\"___________\")\n",
        "#without index\n",
        "for x in arr:\n",
        "  print(x)\n",
        "print(\"___________\")\n",
        "#with index and value\n",
        "for i,x in enumerate(arr):\n",
        "  print(i,x)"
      ],
      "metadata": {
        "colab": {
          "base_uri": "https://localhost:8080/"
        },
        "id": "8T_g3Q-hkc0R",
        "outputId": "3f9c6d3b-ea0e-4cca-c8e4-7c04462fbac6"
      },
      "execution_count": null,
      "outputs": [
        {
          "output_type": "stream",
          "name": "stdout",
          "text": [
            "0\n",
            "8\n",
            "1\n",
            "2\n",
            "3\n",
            "___________\n",
            "0\n",
            "8\n",
            "1\n",
            "2\n",
            "3\n",
            "___________\n",
            "0 0\n",
            "1 8\n",
            "2 1\n",
            "3 2\n",
            "4 3\n"
          ]
        }
      ]
    },
    {
      "cell_type": "code",
      "source": [
        "#Loop through multiple arrays using unpacking\n",
        "arr2 = [5,6,7,8,9]\n",
        "for x,y in zip(arr, arr2):\n",
        "  print(x,y)"
      ],
      "metadata": {
        "colab": {
          "base_uri": "https://localhost:8080/"
        },
        "id": "GVvMPv-6kxT7",
        "outputId": "d5fb03c7-cff6-40ad-9707-742380b06741"
      },
      "execution_count": null,
      "outputs": [
        {
          "output_type": "stream",
          "name": "stdout",
          "text": [
            "0 5\n",
            "8 6\n",
            "1 7\n",
            "2 8\n",
            "3 9\n"
          ]
        }
      ]
    },
    {
      "cell_type": "code",
      "source": [
        "#Reverse an array\n",
        "arr.reverse()\n",
        "print(arr)"
      ],
      "metadata": {
        "colab": {
          "base_uri": "https://localhost:8080/"
        },
        "id": "YIg951b6lHLl",
        "outputId": "9e969de4-0a95-467e-f001-dbad1e8544f5"
      },
      "execution_count": null,
      "outputs": [
        {
          "output_type": "stream",
          "name": "stdout",
          "text": [
            "[3, 2, 1, 8, 0]\n"
          ]
        }
      ]
    },
    {
      "cell_type": "code",
      "source": [
        "#Sorting an array\n",
        "arr.sort(reverse=True)\n",
        "print(arr)"
      ],
      "metadata": {
        "colab": {
          "base_uri": "https://localhost:8080/"
        },
        "id": "AEamapPYlPtL",
        "outputId": "e942dc8d-fd22-45c1-c422-43e32d776a89"
      },
      "execution_count": null,
      "outputs": [
        {
          "output_type": "stream",
          "name": "stdout",
          "text": [
            "[8, 3, 2, 1, 0]\n"
          ]
        }
      ]
    },
    {
      "cell_type": "code",
      "source": [
        "#Sorting text arrays\n",
        "texts = ['bob', 'alice', 'charlie']\n",
        "texts.sort()\n",
        "print(texts)"
      ],
      "metadata": {
        "colab": {
          "base_uri": "https://localhost:8080/"
        },
        "id": "LWe-asJBlVG6",
        "outputId": "1d5d7572-05e3-4f34-8fe2-452a35a454ff"
      },
      "execution_count": null,
      "outputs": [
        {
          "output_type": "stream",
          "name": "stdout",
          "text": [
            "['alice', 'bob', 'charlie']\n"
          ]
        }
      ]
    },
    {
      "cell_type": "code",
      "source": [
        "#Sorting by custom value\n",
        "texts.sort(key=len, reverse=True)\n",
        "print(texts)"
      ],
      "metadata": {
        "colab": {
          "base_uri": "https://localhost:8080/"
        },
        "id": "8quKRy4lljsW",
        "outputId": "02348206-5dbd-450d-98f7-a690673fce2f"
      },
      "execution_count": null,
      "outputs": [
        {
          "output_type": "stream",
          "name": "stdout",
          "text": [
            "['charlie', 'alice', 'bob']\n"
          ]
        }
      ]
    },
    {
      "cell_type": "code",
      "source": [
        "#List Comprehensions\n",
        "arr = [x for x in range(4)]\n",
        "print(arr)\n",
        "arr = [x+x for x in range(4)]\n",
        "print(arr)"
      ],
      "metadata": {
        "colab": {
          "base_uri": "https://localhost:8080/"
        },
        "id": "BLMkM0o5lo6u",
        "outputId": "28d7ee33-5c6c-4a79-938d-56dbcdfdc8bb"
      },
      "execution_count": null,
      "outputs": [
        {
          "output_type": "stream",
          "name": "stdout",
          "text": [
            "[0, 1, 2, 3]\n",
            "[0, 2, 4, 6]\n"
          ]
        }
      ]
    },
    {
      "cell_type": "code",
      "source": [
        "#List comprehension with 2d array\n",
        "arr = [[0] * 4 for i in range(4)]\n",
        "print(arr)"
      ],
      "metadata": {
        "colab": {
          "base_uri": "https://localhost:8080/"
        },
        "id": "16vgqnIdl8Oi",
        "outputId": "cc8fed44-9411-4ce4-8d56-cbf95b013e7c"
      },
      "execution_count": null,
      "outputs": [
        {
          "output_type": "stream",
          "name": "stdout",
          "text": [
            "[[0, 0, 0, 0], [0, 0, 0, 0], [0, 0, 0, 0], [0, 0, 0, 0]]\n"
          ]
        }
      ]
    },
    {
      "cell_type": "markdown",
      "source": [
        "*Tackling* Array Problems **bold text**\n"
      ],
      "metadata": {
        "id": "j4E0z5Vf94kY"
      }
    },
    {
      "cell_type": "code",
      "source": [
        "#Doing a manual check for duplicate\n",
        "list = [0,2,4,3,5,6,7,7]\n",
        "copy = []\n",
        "for i in list:\n",
        "  if i in copy:\n",
        "    print(\"Duplicate found\")\n",
        "  else:\n",
        "    copy.append(i)\n"
      ],
      "metadata": {
        "id": "z7coRSMV98wW"
      },
      "execution_count": null,
      "outputs": []
    },
    {
      "cell_type": "code",
      "source": [
        "list = [0,2,4,3,5,6,7,7]\n",
        "s = set()\n",
        "for i in list:\n",
        "  if i not in s:\n",
        "    s.add(i)\n",
        "  else:\n",
        "    print(\"Duplicate found\")"
      ],
      "metadata": {
        "colab": {
          "base_uri": "https://localhost:8080/"
        },
        "id": "pzLh0FJwZnKP",
        "outputId": "84e4aae9-439e-430c-dde1-a59e5b04e57e"
      },
      "execution_count": null,
      "outputs": [
        {
          "output_type": "stream",
          "name": "stdout",
          "text": [
            "Duplicate found\n"
          ]
        }
      ]
    },
    {
      "cell_type": "markdown",
      "source": [
        "Stacks\n"
      ],
      "metadata": {
        "id": "GPlb30tqj30U"
      }
    },
    {
      "cell_type": "code",
      "source": [
        "# Valid parenthesis problem\n",
        "def isValid(s):\n",
        "  stack = []\n",
        "  hmap = {')':'(', '}':'{', ']':'['} # assing hashmap to track the closing\n",
        "  for c in s: # for character in string\n",
        "    if c in hmap: # if character is in hashmap\n",
        "      if stack and stack[-1] == hmap[c]: #if stack is not empty and stack contains corresponding open parenthesis\n",
        "        stack.pop() #get rid of that open item\n",
        "      else:\n",
        "        return False #we can return false because we are looking at a close with no open\n",
        "    else: #gets here if open\n",
        "      stack.append(c) # add open to stack\n",
        "    if len(stack)==0: # if stack is empty than all opens have been closed\n",
        "      return True\n",
        "  return False\n",
        "\n",
        "print(isValid(\"()\"))\n",
        "print(isValid(\"()[]{}\"))\n",
        "print(isValid(\"(]\"))\n",
        "print(isValid(\"([)]\"))\n",
        "print(isValid(\"{[][]()}\"))\n"
      ],
      "metadata": {
        "colab": {
          "base_uri": "https://localhost:8080/"
        },
        "id": "DhcIBKSij5L8",
        "outputId": "35c4660f-12fb-495a-a356-9f3ab404660d"
      },
      "execution_count": null,
      "outputs": [
        {
          "output_type": "stream",
          "name": "stdout",
          "text": [
            "True\n",
            "True\n",
            "False\n",
            "False\n",
            "False\n"
          ]
        }
      ]
    },
    {
      "cell_type": "markdown",
      "source": [
        "# Strings\n"
      ],
      "metadata": {
        "id": "SbKYg4_Vm-dQ"
      }
    },
    {
      "cell_type": "code",
      "source": [
        "#Strings are like arrays but immutable\n",
        "s = 'abc'\n",
        "print(s[0:2])\n",
        "#s[0] = 'A' <- runs error\n",
        "#print(s)"
      ],
      "metadata": {
        "colab": {
          "base_uri": "https://localhost:8080/"
        },
        "id": "KsWH0v95mQR-",
        "outputId": "1fd0075b-e90f-4528-b673-770f01cb6565"
      },
      "execution_count": null,
      "outputs": [
        {
          "output_type": "stream",
          "name": "stdout",
          "text": [
            "ab\n"
          ]
        }
      ]
    },
    {
      "cell_type": "code",
      "source": [
        "#Reverse a string\n",
        "s[::-1]"
      ],
      "metadata": {
        "colab": {
          "base_uri": "https://localhost:8080/",
          "height": 36
        },
        "id": "nlhhfFHn61Ao",
        "outputId": "ed666353-c361-4921-df3a-5abbfc6256a4"
      },
      "execution_count": null,
      "outputs": [
        {
          "output_type": "execute_result",
          "data": {
            "text/plain": [
              "'cba'"
            ],
            "application/vnd.google.colaboratory.intrinsic+json": {
              "type": "string"
            }
          },
          "metadata": {},
          "execution_count": 3
        }
      ]
    },
    {
      "cell_type": "code",
      "source": [
        "#Lowercase\n",
        "s.lower()\n",
        "#Uppercase\n",
        "s.upper()"
      ],
      "metadata": {
        "id": "O6kzLhT59sYg"
      },
      "execution_count": null,
      "outputs": []
    },
    {
      "cell_type": "code",
      "source": [
        "#modifying a string creates a new string in n time operation\n",
        "s += 'def'\n",
        "s"
      ],
      "metadata": {
        "colab": {
          "base_uri": "https://localhost:8080/",
          "height": 36
        },
        "id": "dd-ZVQ9JnHxc",
        "outputId": "f2c20ea0-3ccc-4765-8e8b-cd32b0b4ebc4"
      },
      "execution_count": null,
      "outputs": [
        {
          "output_type": "execute_result",
          "data": {
            "text/plain": [
              "'abcdef'"
            ],
            "application/vnd.google.colaboratory.intrinsic+json": {
              "type": "string"
            }
          },
          "metadata": {},
          "execution_count": 35
        }
      ]
    },
    {
      "cell_type": "code",
      "source": [
        "#Combining list of strings\n",
        "list = ['ab','cd','ef']\n",
        "\"\".join(list)"
      ],
      "metadata": {
        "colab": {
          "base_uri": "https://localhost:8080/",
          "height": 36
        },
        "id": "VNHFb07KndrP",
        "outputId": "839466d4-76fa-4ab0-aa2d-94e31f112581"
      },
      "execution_count": null,
      "outputs": [
        {
          "output_type": "execute_result",
          "data": {
            "text/plain": [
              "'abcdef'"
            ],
            "application/vnd.google.colaboratory.intrinsic+json": {
              "type": "string"
            }
          },
          "metadata": {},
          "execution_count": 36
        }
      ]
    },
    {
      "cell_type": "code",
      "source": [
        "def passwordVerif(password):\n",
        "  if len(password) < 8:\n",
        "    return False\n",
        "  if not any(char.isdigit() for char in password):\n",
        "    return False\n",
        "  if not any(char.isupper() for char in password):\n",
        "    return False\n",
        "  if not any(char.islower() for char in password):\n",
        "    return False\n",
        "  special = \"!@#$%^&*()_+=\"\n",
        "  if not any(char in special for char in password):\n",
        "    return False\n",
        "\n",
        "  return True\n",
        "\n",
        "print(passwordVerif(\"Abcdefgh\"))\n",
        "print(passwordVerif(\"Abcdefgh1\"))\n",
        "print(passwordVerif(\"Abcdefgh1!\"))\n",
        "print(passwordVerif(\"Ab23$*\"))"
      ],
      "metadata": {
        "colab": {
          "base_uri": "https://localhost:8080/"
        },
        "id": "9bKEwCaj_FPc",
        "outputId": "25576e56-ca57-4fe7-f87d-82b5be1ab774"
      },
      "execution_count": null,
      "outputs": [
        {
          "output_type": "stream",
          "name": "stdout",
          "text": [
            "False\n",
            "False\n",
            "True\n",
            "False\n"
          ]
        }
      ]
    },
    {
      "cell_type": "markdown",
      "source": [
        "# Queues\n"
      ],
      "metadata": {
        "id": "xIKTGOsqn4kN"
      }
    },
    {
      "cell_type": "code",
      "source": [
        "from collections import deque\n",
        "queue = deque()\n",
        "queue.append(1)\n",
        "queue.append(2)\n",
        "queue.append(3)\n",
        "print(queue)\n",
        "print(queue.popleft())\n",
        "print(queue)\n",
        "queue.appendleft(0)\n",
        "print(queue)\n",
        "queue.pop()\n",
        "print(queue)"
      ],
      "metadata": {
        "colab": {
          "base_uri": "https://localhost:8080/"
        },
        "id": "Mbe7X_HRn7l1",
        "outputId": "451efc13-8762-4db1-906d-f1dbef985b51"
      },
      "execution_count": null,
      "outputs": [
        {
          "output_type": "stream",
          "name": "stdout",
          "text": [
            "deque([1, 2, 3])\n",
            "1\n",
            "deque([2, 3])\n",
            "deque([0, 2, 3])\n",
            "deque([0, 2])\n"
          ]
        }
      ]
    },
    {
      "cell_type": "markdown",
      "source": [
        "# Hash sets are constant time search"
      ],
      "metadata": {
        "id": "D_qXvcDroW0r"
      }
    },
    {
      "cell_type": "code",
      "source": [
        "myset = set()\n",
        "\n",
        "myset.add(1)\n",
        "myset.add(2)\n",
        "myset.add(3)\n",
        "\n",
        "print(1 in myset)\n",
        "print(4 in myset)\n",
        "\n",
        "myset.remove(2)\n",
        "print(2 in myset)"
      ],
      "metadata": {
        "colab": {
          "base_uri": "https://localhost:8080/"
        },
        "id": "88UcydIZoBlf",
        "outputId": "f40f945e-0b24-4a80-f41a-6c065c2fdb8b"
      },
      "execution_count": null,
      "outputs": [
        {
          "output_type": "stream",
          "name": "stdout",
          "text": [
            "True\n",
            "False\n",
            "False\n"
          ]
        }
      ]
    },
    {
      "cell_type": "code",
      "source": [
        "#Like lists we can add to it both explicity and with loop\n",
        "print(set([1,2,3]))\n",
        "\n",
        "myset = { i for i in range(5)}\n",
        "print(myset)"
      ],
      "metadata": {
        "colab": {
          "base_uri": "https://localhost:8080/"
        },
        "id": "FRerpdhyofj-",
        "outputId": "ebc936d9-8205-440a-d852-b7f41adde05d"
      },
      "execution_count": null,
      "outputs": [
        {
          "output_type": "stream",
          "name": "stdout",
          "text": [
            "{1, 2, 3}\n",
            "{0, 1, 2, 3, 4}\n"
          ]
        }
      ]
    },
    {
      "cell_type": "markdown",
      "source": [
        "#Hashmaps\n"
      ],
      "metadata": {
        "id": "B07dFq3to-RC"
      }
    },
    {
      "cell_type": "code",
      "source": [
        "mymap = {} #no duplicate keys\n",
        "mymap['a'] = 1\n",
        "mymap['b'] = 2\n",
        "mymap['c'] = 3\n",
        "print(mymap)\n",
        "print(mymap['b'])\n"
      ],
      "metadata": {
        "colab": {
          "base_uri": "https://localhost:8080/"
        },
        "id": "q6Ug1uOqpAky",
        "outputId": "ee8c2554-66fd-4a57-a8f1-223d38395130"
      },
      "execution_count": null,
      "outputs": [
        {
          "output_type": "stream",
          "name": "stdout",
          "text": [
            "{'a': 1, 'b': 2, 'c': 3}\n",
            "2\n"
          ]
        }
      ]
    },
    {
      "cell_type": "code",
      "source": [
        "print(len(mymap)) #prints number of keys.\n",
        "mymap['a'] = 42\n",
        "print(mymap)"
      ],
      "metadata": {
        "colab": {
          "base_uri": "https://localhost:8080/"
        },
        "id": "p8wtF9qvpFeY",
        "outputId": "7b6899f5-208a-4bfe-d223-ddb43f89a4dc"
      },
      "execution_count": null,
      "outputs": [
        {
          "output_type": "stream",
          "name": "stdout",
          "text": [
            "3\n",
            "{'a': 42, 'b': 2, 'c': 3}\n"
          ]
        }
      ]
    },
    {
      "cell_type": "code",
      "source": [
        "mymap.pop('a')\n",
        "print(mymap)"
      ],
      "metadata": {
        "colab": {
          "base_uri": "https://localhost:8080/"
        },
        "id": "o9g58j-6pOU-",
        "outputId": "ab63d787-454d-4ad6-d507-92ec1720c5e9"
      },
      "execution_count": null,
      "outputs": [
        {
          "output_type": "stream",
          "name": "stdout",
          "text": [
            "{'b': 2, 'c': 3}\n"
          ]
        }
      ]
    },
    {
      "cell_type": "code",
      "source": [
        "mymap = {'sam': 42, 'ben':21}\n",
        "print(mymap)"
      ],
      "metadata": {
        "colab": {
          "base_uri": "https://localhost:8080/"
        },
        "id": "m7tni3jcpduk",
        "outputId": "8880a30d-00a3-4178-9b22-000bc86c985d"
      },
      "execution_count": null,
      "outputs": [
        {
          "output_type": "stream",
          "name": "stdout",
          "text": [
            "{'sam': 42, 'ben': 21}\n"
          ]
        }
      ]
    },
    {
      "cell_type": "code",
      "source": [
        "#dict comprehension\n",
        "mymap = {i: i*2 for i in range(3)}\n",
        "print(mymap)"
      ],
      "metadata": {
        "colab": {
          "base_uri": "https://localhost:8080/"
        },
        "id": "cYec0hFZpkVa",
        "outputId": "d4f4b3dd-5f66-48df-9f66-973d525ffd00"
      },
      "execution_count": null,
      "outputs": [
        {
          "output_type": "stream",
          "name": "stdout",
          "text": [
            "{0: 0, 1: 2, 2: 4}\n"
          ]
        }
      ]
    },
    {
      "cell_type": "code",
      "source": [
        "#looping through the dict based on key or value\n",
        "for key in mymap:\n",
        "  print(key, mymap[key])\n",
        "\n",
        "for val in mymap.values():\n",
        "  print(val)\n",
        "\n",
        "for key, val in mymap.items():\n",
        "  print(key, val)"
      ],
      "metadata": {
        "colab": {
          "base_uri": "https://localhost:8080/"
        },
        "id": "rWIzEs_eqEE4",
        "outputId": "ad97d3e7-c52c-4cf9-9f82-de202369b76a"
      },
      "execution_count": null,
      "outputs": [
        {
          "output_type": "stream",
          "name": "stdout",
          "text": [
            "0 0\n",
            "1 2\n",
            "2 4\n",
            "0\n",
            "2\n",
            "4\n",
            "0 0\n",
            "1 2\n",
            "2 4\n"
          ]
        }
      ]
    },
    {
      "cell_type": "code",
      "source": [
        "def isAnaGram(s, t):\n",
        "  if len(s) != len(t):\n",
        "    return False\n",
        "\n",
        "  counts = 26*[0]\n",
        "  for c in range(len(s)):\n",
        "    counts[ord(s[c]) - ord('a')]+=1 #gets the ordinal value (unicode) for the current character, by subtracting we get the index location in the list\n",
        "    counts[ord(t[c]) - ord('a')]-=1\n",
        "\n",
        "  for val in counts:\n",
        "    if val != 0:\n",
        "      return False\n",
        "  return True\n",
        "\n",
        "s = \"lemon\"\n",
        "t = \"mellon\"\n",
        "print(isAnaGram(s,t))"
      ],
      "metadata": {
        "id": "G2weiBEgqP2X"
      },
      "execution_count": null,
      "outputs": []
    },
    {
      "cell_type": "code",
      "source": [
        "def twosum(nums, target):\n",
        "  vals = {} # value: index\n",
        "  for i, num in enumerate(nums): #iterate both i and num\n",
        "    if target - num in vals: # check the dictionary for value that adds with num to target\n",
        "      return [vals[target-num], i] #return it\n",
        "    vals[num] = i # add item to dictionary\n",
        "  return None\n",
        "\n",
        "nums = [2,7,11,15]\n",
        "target = 9\n",
        "print(twosum(nums, target))"
      ],
      "metadata": {
        "colab": {
          "base_uri": "https://localhost:8080/"
        },
        "id": "K3N04_tuabNa",
        "outputId": "e9da9729-32ef-4b3d-dc63-57f9ad4d9173"
      },
      "execution_count": 2,
      "outputs": [
        {
          "output_type": "stream",
          "name": "stdout",
          "text": [
            "[0, 1]\n"
          ]
        }
      ]
    },
    {
      "cell_type": "code",
      "source": [
        "items = {}\n",
        "target = 22\n",
        "for index, number in enumerate(nums):\n",
        "  if target / 2 in items:\n",
        "    print([items[target/2], index])\n",
        "  else:\n",
        "    items[number] = index"
      ],
      "metadata": {
        "colab": {
          "base_uri": "https://localhost:8080/"
        },
        "id": "qa8AtS6B7Fsw",
        "outputId": "a7fafabe-b99d-4bb0-9054-a36b0d2919e3"
      },
      "execution_count": 4,
      "outputs": [
        {
          "output_type": "stream",
          "name": "stdout",
          "text": [
            "[2, 3]\n"
          ]
        }
      ]
    },
    {
      "cell_type": "markdown",
      "source": [
        "#Tuples are immutable arrays"
      ],
      "metadata": {
        "id": "nmeuvviWqUt8"
      }
    },
    {
      "cell_type": "code",
      "source": [
        "tup = (0,1,2)\n",
        "print(tup[0])\n",
        "print(tup[-1])"
      ],
      "metadata": {
        "colab": {
          "base_uri": "https://localhost:8080/"
        },
        "id": "n0zaK4WPqW9s",
        "outputId": "991db3c2-3fe9-4de5-b0b2-12db6ca78de7"
      },
      "execution_count": null,
      "outputs": [
        {
          "output_type": "stream",
          "name": "stdout",
          "text": [
            "0\n",
            "2\n"
          ]
        }
      ]
    },
    {
      "cell_type": "code",
      "source": [
        "# cant modify them\n",
        "tup[0] = 2"
      ],
      "metadata": {
        "colab": {
          "base_uri": "https://localhost:8080/",
          "height": 166
        },
        "id": "0V2594cNqZF3",
        "outputId": "cecc324a-bd07-4991-e126-2e67ae947938"
      },
      "execution_count": null,
      "outputs": [
        {
          "output_type": "error",
          "ename": "TypeError",
          "evalue": "'tuple' object does not support item assignment",
          "traceback": [
            "\u001b[0;31m---------------------------------------------------------------------------\u001b[0m",
            "\u001b[0;31mTypeError\u001b[0m                                 Traceback (most recent call last)",
            "\u001b[0;32m<ipython-input-51-0aeeab53e970>\u001b[0m in \u001b[0;36m<cell line: 2>\u001b[0;34m()\u001b[0m\n\u001b[1;32m      1\u001b[0m \u001b[0;31m# cant modify them\u001b[0m\u001b[0;34m\u001b[0m\u001b[0;34m\u001b[0m\u001b[0m\n\u001b[0;32m----> 2\u001b[0;31m \u001b[0mtup\u001b[0m\u001b[0;34m[\u001b[0m\u001b[0;36m0\u001b[0m\u001b[0;34m]\u001b[0m \u001b[0;34m=\u001b[0m \u001b[0;36m2\u001b[0m\u001b[0;34m\u001b[0m\u001b[0;34m\u001b[0m\u001b[0m\n\u001b[0m",
            "\u001b[0;31mTypeError\u001b[0m: 'tuple' object does not support item assignment"
          ]
        }
      ]
    },
    {
      "cell_type": "code",
      "source": [
        "# can be used as keys for a hashset\n",
        "mymap  = {(1,2): 3, (4,5): 6}\n",
        "print(mymap[(1,2)])"
      ],
      "metadata": {
        "colab": {
          "base_uri": "https://localhost:8080/"
        },
        "id": "N-2P55WLqjqi",
        "outputId": "96e2be07-e860-4634-a161-f4bae9ed053f"
      },
      "execution_count": null,
      "outputs": [
        {
          "output_type": "stream",
          "name": "stdout",
          "text": [
            "3\n"
          ]
        }
      ]
    },
    {
      "cell_type": "markdown",
      "source": [
        "# Linked List"
      ],
      "metadata": {
        "id": "rfZMkbdmdxsx"
      }
    },
    {
      "cell_type": "code",
      "source": [
        "#Standard singly linked list class using value and next pointers\n",
        "class ListNode:\n",
        "  def __init__(self, val=0, next=None):\n",
        "    self.val = val\n",
        "    self.next = next\n",
        "\n",
        "x = ListNode(1)\n",
        "y = ListNode(2)\n",
        "z = ListNode(3)\n",
        "x.next = y\n",
        "y.next = z\n",
        "print(x.val)\n",
        "print(y.val)\n",
        "print(z.val)\n",
        "print(x.next.val)\n",
        "print(y.next.val)\n"
      ],
      "metadata": {
        "id": "r65ePAgGqtov",
        "colab": {
          "base_uri": "https://localhost:8080/"
        },
        "outputId": "d4b927bb-71bb-4015-f6f1-12e9230aab6b"
      },
      "execution_count": null,
      "outputs": [
        {
          "output_type": "stream",
          "name": "stdout",
          "text": [
            "1\n",
            "2\n",
            "3\n",
            "2\n",
            "3\n"
          ]
        }
      ]
    },
    {
      "cell_type": "code",
      "source": [
        "#reversing a singly linked list using current for the head node, previous as none\n",
        "# we loop while current exists, set a temp variable to the next node\n",
        "# current next node to previous node, update the previous to be the current and the current to be next node\n",
        "curr = x\n",
        "prev = None\n",
        "while curr:\n",
        "  temp = curr.next\n",
        "  curr.next = prev\n",
        "  prev = curr\n",
        "  curr = temp\n",
        "\n",
        "print(z.next.val)\n"
      ],
      "metadata": {
        "colab": {
          "base_uri": "https://localhost:8080/"
        },
        "id": "Z2lNXDLweH7o",
        "outputId": "6e0832e0-d34f-422e-e681-99a8e8c6d2b8"
      },
      "execution_count": null,
      "outputs": [
        {
          "output_type": "stream",
          "name": "stdout",
          "text": [
            "2\n"
          ]
        }
      ]
    },
    {
      "cell_type": "markdown",
      "source": [
        "# Binary Search Trees"
      ],
      "metadata": {
        "id": "zbJPZQgUGQuB"
      }
    },
    {
      "cell_type": "markdown",
      "source": [
        "Best way to iterate through trees using BFS and DFS"
      ],
      "metadata": {
        "id": "dYrRcmv1fHGx"
      }
    },
    {
      "cell_type": "code",
      "source": [
        "def DFSinorder(root):\n",
        "  \"\"\"recursive inorder traversal for DFS\"\"\"\n",
        "  if root:\n",
        "    DFSinorder(root.left)\n",
        "    print(root.val, end=' ')\n",
        "    DFSinorder(root.right)\n",
        "DFSinorder(x)"
      ],
      "metadata": {
        "colab": {
          "base_uri": "https://localhost:8080/"
        },
        "id": "jAW8lJNTfL3M",
        "outputId": "e9948549-01e2-46ff-c851-8f2b24417c11"
      },
      "execution_count": null,
      "outputs": [
        {
          "output_type": "stream",
          "name": "stdout",
          "text": [
            "4 2 5 1 3 "
          ]
        }
      ]
    },
    {
      "cell_type": "code",
      "source": [
        "def DFSinorderiterative(root):\n",
        "  stack = []\n",
        "  curr = root\n",
        "  while curr or stack:\n",
        "    while curr:\n",
        "      stack.append(curr)\n",
        "      curr = curr.left #go as left as possible\n",
        "    curr = stack.pop()\n",
        "    print(curr.val, end=' ')\n",
        "    curr = curr.right\n",
        "DFSinorderiterative(x)"
      ],
      "metadata": {
        "colab": {
          "base_uri": "https://localhost:8080/"
        },
        "id": "-E94V9f2gg36",
        "outputId": "d9b33543-8693-4b0a-8097-45691e0aed15"
      },
      "execution_count": null,
      "outputs": [
        {
          "output_type": "stream",
          "name": "stdout",
          "text": [
            "4 2 5 1 3 "
          ]
        }
      ]
    },
    {
      "cell_type": "code",
      "source": [
        "from collections import deque\n",
        "def BFSlevelorder(root):\n",
        "  \"\"\"iterative level traversal for BFS\"\"\"\n",
        "  if not root:\n",
        "    return None\n",
        "  q = deque([root])\n",
        "  while q:\n",
        "    node = q.popleft()\n",
        "    print(node.val, end=' ')\n",
        "    if node.left:\n",
        "      q.append(node.left)\n",
        "    if node.right:\n",
        "      q.append(node.right)\n",
        "BFSlevelorder(x)\n"
      ],
      "metadata": {
        "colab": {
          "base_uri": "https://localhost:8080/"
        },
        "id": "U2UOsF5chn8U",
        "outputId": "4c58b032-cb7c-4f7c-e4a0-66ba60fe2e73"
      },
      "execution_count": null,
      "outputs": [
        {
          "output_type": "stream",
          "name": "stdout",
          "text": [
            "1 2 3 4 5 "
          ]
        }
      ]
    },
    {
      "cell_type": "markdown",
      "source": [
        "Pre and Post Order DFS"
      ],
      "metadata": {
        "id": "kfHEFKezinCe"
      }
    },
    {
      "cell_type": "code",
      "source": [
        "def preorder(root):\n",
        "  if root:\n",
        "    print(root.val, end=' ')\n",
        "    preorder(root.left)\n",
        "    preorder(root.right)\n",
        "preorder(x)"
      ],
      "metadata": {
        "colab": {
          "base_uri": "https://localhost:8080/"
        },
        "id": "Tb5LWJl0iraC",
        "outputId": "0548d227-15d9-46ec-f8b3-4a884cbceee0"
      },
      "execution_count": null,
      "outputs": [
        {
          "output_type": "stream",
          "name": "stdout",
          "text": [
            "1 2 4 5 3 "
          ]
        }
      ]
    },
    {
      "cell_type": "code",
      "source": [
        "def iterativepreorder(root):\n",
        "  if not root:\n",
        "    return None\n",
        "  stack = [root]\n",
        "  while stack:\n",
        "    node = stack.pop()\n",
        "    print(node.val, end=' ')\n",
        "    if node.right:\n",
        "      stack.append(node.right)\n",
        "    if node.left:\n",
        "      stack.append(node.left)\n",
        "iterativepreorder(x)"
      ],
      "metadata": {
        "colab": {
          "base_uri": "https://localhost:8080/"
        },
        "id": "NqGTb68njCAZ",
        "outputId": "2396c9e8-f45d-47be-9117-0714d8cfe57d"
      },
      "execution_count": null,
      "outputs": [
        {
          "output_type": "stream",
          "name": "stdout",
          "text": [
            "1 2 4 5 3 "
          ]
        }
      ]
    },
    {
      "cell_type": "code",
      "source": [
        "def postorder(root):\n",
        "  if root:\n",
        "    postorder(root.left)\n",
        "    postorder(root.right)\n",
        "    print(root.val, end=' ')\n",
        "postorder(x)"
      ],
      "metadata": {
        "colab": {
          "base_uri": "https://localhost:8080/"
        },
        "id": "bDYioDW2jL2j",
        "outputId": "9109e050-9e34-45cf-fdee-622d44a78328"
      },
      "execution_count": null,
      "outputs": [
        {
          "output_type": "stream",
          "name": "stdout",
          "text": [
            "4 5 2 3 1 "
          ]
        }
      ]
    },
    {
      "cell_type": "code",
      "source": [
        "def iterpostorder(root):\n",
        "  if not root:\n",
        "    return None\n",
        "  stack1 = [root]\n",
        "  stack2 = []\n",
        "  while stack1:\n",
        "    node = stack1.pop()\n",
        "    stack2.append(node)\n",
        "    if node.left:\n",
        "      stack1.append(node.left)\n",
        "    if node.right:\n",
        "      stack1.append(node.right)\n",
        "  while stack2:\n",
        "    node = stack2.pop()\n",
        "    print(node.val, end=' ')\n",
        "iterpostorder(x)\n"
      ],
      "metadata": {
        "colab": {
          "base_uri": "https://localhost:8080/"
        },
        "id": "ClTlwfZUjSQP",
        "outputId": "6e7b0f63-4b35-4aa2-e2ad-25a8836baf7b"
      },
      "execution_count": null,
      "outputs": [
        {
          "output_type": "stream",
          "name": "stdout",
          "text": [
            "4 5 2 3 1 "
          ]
        }
      ]
    },
    {
      "cell_type": "code",
      "source": [
        "# construction of a simple tree node. Building the tree is kind of difficult where we have to build leafs first\n",
        "class TreeNode:\n",
        "  def __init__(self, val, left=None, right=None):\n",
        "    self.val = val\n",
        "    self.left = left\n",
        "    self.right = right\n",
        "\n",
        "y = TreeNode(2, TreeNode(4), TreeNode(5))\n",
        "z = TreeNode(3)\n",
        "x = TreeNode(1, y, z)\n",
        "print(x.val)\n",
        "print(x.left.val)\n",
        "\n",
        "print(x.left.left.val)"
      ],
      "metadata": {
        "colab": {
          "base_uri": "https://localhost:8080/"
        },
        "id": "XZK3KX_NfQLa",
        "outputId": "bacfcc8f-ffc8-4035-ef0f-8f3f7fb0f44c"
      },
      "execution_count": null,
      "outputs": [
        {
          "output_type": "stream",
          "name": "stdout",
          "text": [
            "1\n",
            "2\n",
            "4\n"
          ]
        }
      ]
    },
    {
      "cell_type": "code",
      "source": [
        "# iterative DFS.\n",
        "def sameTree(p, q):\n",
        "  stack =[(p, q)] # we can store both nodes in the same stack because we want them to be same\n",
        "  while stack:\n",
        "    node1, node2 = stack.pop\n",
        "    if not node1 and not node2:\n",
        "      continue\n",
        "    if not node1 or not node2 or node1.val != node2.val:\n",
        "      return False\n",
        "    stack.append((node1.left, node2.left))\n",
        "    stack.append((node1.right, node2.right))\n",
        "  return True"
      ],
      "metadata": {
        "id": "4q0iJ14PeQBC"
      },
      "execution_count": null,
      "outputs": []
    },
    {
      "cell_type": "code",
      "source": [
        "from collections import deque\n",
        "#breadth first solution to finding the maxDepth of a BST\n",
        "def maxDepth(root):\n",
        "  q = deque() #deque to pop from\n",
        "  if root:\n",
        "    q.append(root)\n",
        "\n",
        "  level = 0\n",
        "  while q:\n",
        "    for i in range(len(q)):\n",
        "      node = q.popleft()\n",
        "      if node.left:\n",
        "        q.append(node.left)\n",
        "      if node.right:\n",
        "        q.append(node.right)\n",
        "    level+=1\n",
        "  return level\n",
        "\n",
        "print(maxDepth(x))\n",
        "\n",
        "\"\"\"For breadth first search we want to use a deque to get the first in first out order of the nodes.\n",
        "We want to look at each node in a row rather than in a downward line. We process each of the children nodes\n",
        "pop the parent node and then once were done with that level we increment the level counter and go down\n",
        "to the next set of children.\"\"\""
      ],
      "metadata": {
        "colab": {
          "base_uri": "https://localhost:8080/"
        },
        "id": "uJP-8KSXHEmz",
        "outputId": "10bcfe81-1d89-46e3-fc2a-eb1fba2c8ec8"
      },
      "execution_count": null,
      "outputs": [
        {
          "output_type": "stream",
          "name": "stdout",
          "text": [
            "3\n"
          ]
        }
      ]
    },
    {
      "cell_type": "code",
      "source": [
        "# max depth for a BST using depth first search\n",
        "def maxDepth(root):\n",
        "  stack = [[root, 1]]\n",
        "  res = 0\n",
        "  while stack:\n",
        "    node, depth = stack.pop()\n",
        "    if node:\n",
        "      res = max(res, depth)\n",
        "      stack.append([node.right, depth+1])\n",
        "      stack.append([node.left, depth+1])\n",
        "  return res\n",
        "\n",
        "print(maxDepth(x))\n",
        "\n",
        "\"\"\"For depth first search, we use a stack because we want the last in first out structure so we can check the\n",
        "newest child node's children. We pop the most recently added node and check if it exists then we add both its\n",
        "children to the stack after updating the res.\"\"\""
      ],
      "metadata": {
        "colab": {
          "base_uri": "https://localhost:8080/"
        },
        "id": "8G02djfPIOW6",
        "outputId": "2b8cca73-fb73-4f70-9982-fbaa6839ae68"
      },
      "execution_count": null,
      "outputs": [
        {
          "output_type": "stream",
          "name": "stdout",
          "text": [
            "3\n"
          ]
        }
      ]
    },
    {
      "cell_type": "code",
      "source": [
        "# max width of tree using depth first search\n",
        "def widthOfBinaryTree(root):\n",
        "  stack = [root]\n",
        "  mp = {None: (0,0)}\n",
        "\n",
        "  while stack:\n",
        "    node = stack[-1]\n",
        "\n",
        "    if node.left and node.left not in mp:\n",
        "      stack.append(node.left)\n",
        "    elif node.right and node.right not in mp:\n",
        "      stack.append(node.right)\n",
        "    else:\n",
        "      stack.pop()\n",
        "\n",
        "      leftH, leftD = mp[node.left]\n",
        "      rightH, rightD = mp[node.right]\n",
        "\n",
        "      mp[node] = (max(leftH, rightH)+1, max(leftH+rightH,leftD, rightD))\n",
        "  return mp[root][1]\n",
        "\n",
        "print(widthOfBinaryTree(x))\n"
      ],
      "metadata": {
        "colab": {
          "base_uri": "https://localhost:8080/"
        },
        "id": "RNdtmanPJ50E",
        "outputId": "1bf0dc30-4784-40c9-ee6f-2c51aa2a46c6"
      },
      "execution_count": null,
      "outputs": [
        {
          "output_type": "stream",
          "name": "stdout",
          "text": [
            "3\n"
          ]
        }
      ]
    },
    {
      "cell_type": "code",
      "source": [],
      "metadata": {
        "id": "o9UV0HgVYCxE"
      },
      "execution_count": null,
      "outputs": []
    },
    {
      "cell_type": "markdown",
      "source": [
        "# Sorting Algorithms"
      ],
      "metadata": {
        "id": "GatIPGw7rpnB"
      }
    },
    {
      "cell_type": "code",
      "source": [
        "# Insertion sort O(n^2)\n",
        "def insertionSort(arr):\n",
        "  j=2\n",
        "  for j in range(1, len(arr)):\n",
        "    key = arr[j]\n",
        "    i = j-1\n",
        "    while i>=0 and arr[i]>key:\n",
        "      arr[i+1] = arr[i]\n",
        "      i=i-1\n",
        "    arr[i+1] = key\n",
        "  return arr\n",
        "\n",
        "print(insertionSort([5,2,4,6,1,3]))\n"
      ],
      "metadata": {
        "colab": {
          "base_uri": "https://localhost:8080/"
        },
        "id": "D73SB8e_rwgf",
        "outputId": "ba84830f-b1b3-464c-f627-b824caf31877"
      },
      "execution_count": null,
      "outputs": [
        {
          "output_type": "stream",
          "name": "stdout",
          "text": [
            "[1, 2, 3, 4, 5, 6]\n"
          ]
        }
      ]
    },
    {
      "cell_type": "code",
      "source": [
        "# Merge Sort O(nlgn)\n",
        "import math\n",
        "def merge(A, p, q, r):\n",
        "    # Step 1: Calculate the sizes of the two subarrays\n",
        "    n1 = q - p + 1\n",
        "    n2 = r - q\n",
        "\n",
        "    # Step 2: Create temporary arrays L and R\n",
        "    L = [0] * (n1 + 1)  # Extra space for sentinel value\n",
        "    R = [0] * (n2 + 1)  # Extra space for sentinel value\n",
        "\n",
        "    # Step 3: Copy data into temporary arrays L and R\n",
        "    for i in range(n1):\n",
        "        L[i] = A[p + i]\n",
        "    for j in range(n2):\n",
        "        R[j] = A[q + j + 1]\n",
        "\n",
        "    # Step 4: Add sentinel values at the end of L and R\n",
        "    L[n1] = float('inf')  # Sentinel value (infinity)\n",
        "    R[n2] = float('inf')  # Sentinel value (infinity)\n",
        "\n",
        "    # Step 5: Merge the two arrays back into A[p..r]\n",
        "    i = 0  # Index for L\n",
        "    j = 0  # Index for R\n",
        "    for k in range(p, r + 1):\n",
        "        if L[i] <= R[j]:\n",
        "            A[k] = L[i]\n",
        "            i += 1\n",
        "        else:\n",
        "            A[k] = R[j]\n",
        "            j += 1\n",
        "\n",
        "def mergeSort(arr, p, r):\n",
        "  if p<r:\n",
        "    q = math.floor((p+r)/2)\n",
        "    mergeSort(arr, p, q)\n",
        "    mergeSort(arr, q+1, r)\n",
        "    merge(arr, p, q, r)\n",
        "  return arr\n",
        "\n",
        "print(mergeSort([5,2,4,6,1,3], 0, 5))\n"
      ],
      "metadata": {
        "colab": {
          "base_uri": "https://localhost:8080/"
        },
        "id": "IZbHlNdssKAr",
        "outputId": "bc57d780-475a-4182-c643-b21f2cd0d0dd"
      },
      "execution_count": null,
      "outputs": [
        {
          "output_type": "stream",
          "name": "stdout",
          "text": [
            "[1, 2, 3, 4, 5, 6]\n"
          ]
        }
      ]
    },
    {
      "cell_type": "code",
      "source": [
        "# Quicksort best case / average case nlgn. Worst case n^2 if\n",
        "\n",
        "def partion(arr, p, r):\n",
        "  x = arr[r]\n",
        "  i = p-1\n",
        "  j = p\n",
        "  while j < r:\n",
        "    if arr[j] <= x:\n",
        "      i+=1\n",
        "      arr[i], arr[j] = arr[j], arr[i]\n",
        "    j+=1\n",
        "  arr[i+1], arr[r] = arr[r], arr[i+1]\n",
        "  return i+1\n",
        "\n",
        "def quicksort(arr, p, r):\n",
        "  if p<r:\n",
        "    q = partion(arr, p, r)\n",
        "    quicksort(arr, p, q-1)\n",
        "    quicksort(arr, q+1, r)\n",
        "  return arr\n",
        "\n",
        "print(quicksort([5,2,4,6,1,3], 0, 5))\n"
      ],
      "metadata": {
        "id": "-DFJhuhMuCZ8",
        "colab": {
          "base_uri": "https://localhost:8080/"
        },
        "outputId": "f1969cce-3142-45a1-b3e7-cd1d54687aa8"
      },
      "execution_count": null,
      "outputs": [
        {
          "output_type": "stream",
          "name": "stdout",
          "text": [
            "[1, 2, 3, 4, 5, 6]\n"
          ]
        }
      ]
    },
    {
      "cell_type": "code",
      "source": [
        "# Max Heapify average/best/worst case O(nlgn)\n",
        "def maxheapify(A, heap_size, i):\n",
        "    l = 2 * i + 1  # Left child\n",
        "    r = 2 * i + 2  # Right child\n",
        "    largest = i    # Initialize largest as root\n",
        "\n",
        "    # Check if left child exists and is greater than root\n",
        "    if l < heap_size and A[l] > A[largest]:\n",
        "        largest = l\n",
        "\n",
        "    # Check if right child exists and is greater than the largest so far\n",
        "    if r < heap_size and A[r] > A[largest]:\n",
        "        largest = r\n",
        "\n",
        "    # If the largest is not the root, swap and recursively heapify\n",
        "    if largest != i:\n",
        "        A[i], A[largest] = A[largest], A[i]\n",
        "        maxheapify(A, heap_size, largest)\n",
        "\n",
        "def buildmaxheap(A):\n",
        "    heap_size = len(A)\n",
        "    # Start from the last non-leaf node and heapify all nodes\n",
        "    for i in range(heap_size // 2 - 1, -1, -1):\n",
        "        maxheapify(A, heap_size, i)\n",
        "    return A\n",
        "\n",
        "def heapsort(A):\n",
        "    heap_size = len(A)\n",
        "    # Build a max heap\n",
        "    buildmaxheap(A)\n",
        "    # Extract elements one by one\n",
        "    for i in range(heap_size - 1, 0, -1):\n",
        "        # Swap the root (max element) with the last element\n",
        "        A[0], A[i] = A[i], A[0]\n",
        "        # Reduce the heap size and heapify the root\n",
        "        maxheapify(A, i, 0)\n",
        "    return A\n",
        "\n",
        "# Test the implementation\n",
        "print(heapsort([5, 2, 4, 6, 1, 3]))\n"
      ],
      "metadata": {
        "colab": {
          "base_uri": "https://localhost:8080/"
        },
        "id": "TJ48E8HTDLU0",
        "outputId": "86a59e37-2d5e-4e2e-d657-42c793418214"
      },
      "execution_count": null,
      "outputs": [
        {
          "output_type": "stream",
          "name": "stdout",
          "text": [
            "[1, 2, 3, 4, 5, 6]\n"
          ]
        }
      ]
    },
    {
      "cell_type": "code",
      "source": [
        "#Counting Sort Theta(n+k)\n",
        "def counting_sort(A, k):\n",
        "    # Step 1: Create a count array C of size k+1 and initialize it to 0\n",
        "    C = [0] * (k + 1)\n",
        "\n",
        "    # Step 2: Count the occurrences of each element in A\n",
        "    for j in range(len(A)):\n",
        "        C[A[j]] += 1\n",
        "\n",
        "    # Step 3: Modify the count array to store the cumulative count\n",
        "    for i in range(1, k + 1):\n",
        "        C[i] += C[i - 1]\n",
        "\n",
        "    # Step 4: Create the output array B of the same size as A\n",
        "    B = [0] * len(A)\n",
        "\n",
        "    # Step 5: Place the elements in their correct positions in B\n",
        "    for j in range(len(A) - 1, -1, -1):\n",
        "        B[C[A[j]] - 1] = A[j]\n",
        "        C[A[j]] -= 1\n",
        "\n",
        "    return B\n",
        "\n",
        "A = [4, 2, 2, 8, 3, 3, 1]\n",
        "k = 8  # Maximum value in A\n",
        "\n",
        "sorted_A = counting_sort(A, k)\n",
        "print(sorted_A)"
      ],
      "metadata": {
        "colab": {
          "base_uri": "https://localhost:8080/"
        },
        "id": "wJJlxIKsEYsi",
        "outputId": "9ba33599-2e9e-4f9c-b442-82a0fd3e4f3f"
      },
      "execution_count": null,
      "outputs": [
        {
          "output_type": "stream",
          "name": "stdout",
          "text": [
            "[1, 2, 2, 3, 3, 4, 8]\n"
          ]
        }
      ]
    },
    {
      "cell_type": "code",
      "source": [
        "# radix sort needs counting sort or another linear time search to implement in Theta(d(n+k)) time\n",
        "\n",
        "def counting_sort_for_radix(A, exp):\n",
        "    \"\"\"\n",
        "    A subroutine to sort the array A based on a specific digit (exp).\n",
        "    \"\"\"\n",
        "    n = len(A)\n",
        "    B = [0] * n  # Output array\n",
        "    C = [0] * 10  # Count array for digits 0-9\n",
        "\n",
        "    # Count the occurrences of each digit\n",
        "    for i in range(n):\n",
        "        index = (A[i] // exp) % 10\n",
        "        C[index] += 1\n",
        "\n",
        "    # Modify the count array to store cumulative counts\n",
        "    for i in range(1, 10):\n",
        "        C[i] += C[i - 1]\n",
        "\n",
        "    # Build the output array B\n",
        "    i = n - 1\n",
        "    while i >= 0:\n",
        "        index = (A[i] // exp) % 10\n",
        "        B[C[index] - 1] = A[i]\n",
        "        C[index] -= 1\n",
        "        i -= 1\n",
        "\n",
        "    # Copy the sorted elements back into A\n",
        "    for i in range(n):\n",
        "        A[i] = B[i]\n",
        "\n",
        "def radix_sort(A):\n",
        "    \"\"\"\n",
        "    Main function to perform Radix Sort.\n",
        "    \"\"\"\n",
        "    # Find the maximum number to determine the number of digits\n",
        "    max_num = max(A)\n",
        "\n",
        "    # Perform counting sort for every digit\n",
        "    exp = 1\n",
        "    while max_num // exp > 0:\n",
        "        counting_sort_for_radix(A, exp)\n",
        "        exp *= 10  # Move to the next digit\n",
        "\n",
        "    return A"
      ],
      "metadata": {
        "id": "bwXlwx9lF5aQ"
      },
      "execution_count": null,
      "outputs": []
    },
    {
      "cell_type": "code",
      "source": [
        "# Achieves linear time if uniform-ish distribution\n",
        "def bucket_sort(A):\n",
        "    \"\"\"\n",
        "    Bucket Sort algorithm.\n",
        "    \"\"\"\n",
        "    n = len(A)\n",
        "    # Step 1: Create an array of empty buckets\n",
        "    B = [[] for _ in range(n)]\n",
        "\n",
        "    # Step 2: Insert elements into buckets\n",
        "    for num in A:\n",
        "        bucket_index = int(n * num)  # Calculate the bucket index\n",
        "        B[bucket_index].append(num)\n",
        "\n",
        "    # Step 3: Sort each bucket using insertion sort\n",
        "    for i in range(n):\n",
        "        insertionSort(B[i])\n",
        "\n",
        "    # Step 4: Concatenate all buckets into a single sorted array\n",
        "    sorted_A = []\n",
        "    for bucket in B:\n",
        "        sorted_A.extend(bucket)\n",
        "\n",
        "    return sorted_A\n",
        "\n",
        "A = [0.42, 0.32, 0.33, 0.52, 0.37, 0.47, 0.51]\n",
        "sorted_A = bucket_sort(A)\n",
        "print(sorted_A)"
      ],
      "metadata": {
        "colab": {
          "base_uri": "https://localhost:8080/"
        },
        "id": "83pKbjj8G25o",
        "outputId": "5fb88dc3-b249-407a-d9a6-80e364b83cf0"
      },
      "execution_count": null,
      "outputs": [
        {
          "output_type": "stream",
          "name": "stdout",
          "text": [
            "[0.32, 0.33, 0.37, 0.42, 0.47, 0.51, 0.52]\n"
          ]
        }
      ]
    },
    {
      "cell_type": "code",
      "source": [],
      "metadata": {
        "id": "rK3f6fCmHCSw"
      },
      "execution_count": null,
      "outputs": []
    }
  ]
}